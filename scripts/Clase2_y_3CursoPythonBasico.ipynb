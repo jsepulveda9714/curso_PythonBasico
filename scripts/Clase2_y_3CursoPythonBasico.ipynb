{
 "cells": [
  {
   "cell_type": "markdown",
   "id": "9562abbd",
   "metadata": {},
   "source": [
    "# Outline clase Lunes 24 de mayo de 2021\n",
    "\n",
    "\\begin{itemize}\n",
    "    \\item Rápido repaso de la clase anterior.\n",
    "    \\item Continuación del tema: tipos de variables y algunos comandos útiles.\n",
    "    \\item Lectura de archivos de texto plano, el método a rústico\n",
    "    \\item Paquete numpy\n",
    "    \\item Formas más fáciles de leer archivos de texto plano.\n",
    "    \\item algunas operaciones con los datos leídos.\n",
    "\\end{itemize}"
   ]
  },
  {
   "cell_type": "code",
   "execution_count": 3,
   "id": "825352a5",
   "metadata": {},
   "outputs": [],
   "source": [
    "## esto es un test"
   ]
  },
  {
   "cell_type": "markdown",
   "id": "8d4b99a8",
   "metadata": {},
   "source": [
    "# Definición de los paquetes necesarios"
   ]
  },
  {
   "cell_type": "code",
   "execution_count": 4,
   "id": "55bc76e1",
   "metadata": {},
   "outputs": [],
   "source": [
    "#-*- coding: utf-8 -*-\n",
    "#!/usr/bin/env python\n",
    "# ------------------------------\n",
    "\n",
    "import numpy as np"
   ]
  },
  {
   "cell_type": "markdown",
   "id": "022018bf",
   "metadata": {},
   "source": [
    "# Tipos de variables\n",
    "## Variables tipo set"
   ]
  },
  {
   "cell_type": "code",
   "execution_count": 5,
   "id": "71ec0187",
   "metadata": {},
   "outputs": [
    {
     "name": "stdout",
     "output_type": "stream",
     "text": [
      "{1, 5, 7}\n",
      "{0, 1, 2, 3, 4, 5, 6, 7, 8, 9}\n",
      "set()\n",
      "{1, 5, 7}\n",
      "{0, 1, 2, 3, 4, 5, 6, 7, 8, 9}\n",
      "{0, 1, 2, 3, 4, 5, 6, 7, 8, 9, 18}\n"
     ]
    }
   ],
   "source": [
    "a_set = {1,5,7}\n",
    "\n",
    "b_list = range(10)\n",
    "b_set = set(b_list)\n",
    "c_set = set([])\n",
    "print (a_set)\n",
    "print (b_set)\n",
    "print (c_set)\n",
    "\n",
    "c_set.update(a_set)\n",
    "print (c_set)\n",
    "c_set.update(b_set)\n",
    "print (c_set)\n",
    "c_set.add(18)\n",
    "print (c_set)"
   ]
  },
  {
   "cell_type": "code",
   "execution_count": 6,
   "id": "d8a07e6b",
   "metadata": {},
   "outputs": [
    {
     "name": "stdout",
     "output_type": "stream",
     "text": [
      "{1, 5, 7}\n",
      "{0, 1, 2, 3, 4, 5, 6, 7, 8, 9}\n",
      "set()\n",
      "{0, 1, 2, 3, 4, 5, 6, 7, 8, 9}\n",
      "{0, 1, 2, 3, 4, 5, 6, 7, 8, 9, 13}\n",
      "{0, 1, 2, 4, 5, 6, 8, 9, 13, 18}\n",
      "[0, 1, 2, 4, 5, 6, 8, 9, 13, 18]\n"
     ]
    }
   ],
   "source": [
    "a_set = {1,5,7}\n",
    "\n",
    "b_list = range(10)\n",
    "b_set = set(b_list)\n",
    "c_set = set([])\n",
    "print (a_set)\n",
    "print (b_set)\n",
    "print (c_set)\n",
    "\n",
    "c_set.update(a_set)\n",
    "c_set.update(b_set)\n",
    "print (c_set)\n",
    "c_set.add(13)\n",
    "print (c_set)\n",
    "c_set.remove(7)\n",
    "c_set.remove(3)\n",
    "# Lo siguiente no es posible hacer\n",
    "#print (c_set[7])\n",
    "#c_set[7] = 18 \n",
    "# Se quiere adicionar un elemento se usa add o varios elementos update\n",
    "c_set.add(18)\n",
    "print (c_set)\n",
    "# Un set puede volverse lista y una lista set\n",
    "c_list = list(c_set)\n",
    "print (c_list)\n",
    "a_set.update({11,15,16})"
   ]
  },
  {
   "cell_type": "code",
   "execution_count": 7,
   "id": "77e15f33",
   "metadata": {},
   "outputs": [
    {
     "name": "stdout",
     "output_type": "stream",
     "text": [
      "El conjunto a es:  {16, 1, 5, 7, 11, 15}\n",
      "El conjunto c es:  {0, 1, 2, 4, 5, 6, 8, 9, 13, 18}\n",
      "La unión de los conjuntos\n",
      "{0, 1, 2, 4, 5, 6, 7, 8, 9, 11, 13, 15, 16, 18}\n",
      "{0, 1, 2, 4, 5, 6, 7, 8, 9, 11, 13, 15, 16, 18}\n",
      "La Intercepción de los conjuntos\n",
      "{1, 5}\n",
      "{1, 5}\n",
      "La differencia de los conjuntos\n",
      "{16, 11, 15, 7}\n",
      "{16, 11, 15, 7}\n",
      "La diferencia simétrica de los conjuntos\n",
      "{16, 11, 15, 7}\n",
      "{0, 2, 4, 6, 7, 8, 9, 11, 13, 15, 16, 18}\n"
     ]
    }
   ],
   "source": [
    "print ('El conjunto a es: ', a_set)\n",
    "print ('El conjunto c es: ', c_set)\n",
    "# union entre variables tipo set\n",
    "union_ac1 = a_set | c_set\n",
    "union_ac2 = a_set.union(c_set)\n",
    "print (\"La unión de los conjuntos\")\n",
    "print (union_ac1)\n",
    "print (union_ac2)\n",
    "# Intercepción entre variables tipo set\n",
    "inter_ac1 = a_set & c_set\n",
    "inter_ac2 = a_set.intersection(c_set)\n",
    "print (\"La Intercepción de los conjuntos\")\n",
    "print (inter_ac1)\n",
    "print (inter_ac2)\n",
    "# operador diferencia entre variables tipo set\n",
    "diff_ac1 = a_set - c_set\n",
    "diff_ac2 = a_set.difference(c_set)\n",
    "print (\"La differencia de los conjuntos\")\n",
    "print (diff_ac1)\n",
    "print (diff_ac2)\n",
    "# Operador diferencia simetrica\n",
    "symdiff_ac1 = a_set - c_set\n",
    "symdiff_ac2 = a_set.symmetric_difference(c_set)\n",
    "print (\"La diferencia simétrica de los conjuntos\")\n",
    "print (symdiff_ac1)\n",
    "print (symdiff_ac2)\n",
    "\n"
   ]
  },
  {
   "cell_type": "markdown",
   "id": "09eafce1",
   "metadata": {},
   "source": [
    "## Diccionarios\n",
    "Los diccionarios es uno de los tipos más importantes de varibles que podemos encontrar en python, ya que permite almacenar diferentes tipos de variables y para luego acceder usando una palabra clave"
   ]
  },
  {
   "cell_type": "code",
   "execution_count": 8,
   "id": "0516d8ee",
   "metadata": {},
   "outputs": [
    {
     "name": "stdout",
     "output_type": "stream",
     "text": [
      "{'var_a': 7.0, 'var_b': 12.0}\n",
      "dict_keys(['var_a', 'var_b'])\n",
      "dict_values([7.0, 12.0])\n",
      "7.0\n"
     ]
    }
   ],
   "source": [
    "# Creación simple de un diccionario\n",
    "dict_a = {'var_a': 7., 'var_b': 12.}\n",
    "print (dict_a)\n",
    "print (dict_a.keys())\n",
    "print (dict_a.values())\n",
    "print (dict_a['var_a']) # Para acceder a la variable con la palabra clave"
   ]
  },
  {
   "cell_type": "code",
   "execution_count": 9,
   "id": "6b7c85d0",
   "metadata": {},
   "outputs": [
    {
     "name": "stdout",
     "output_type": "stream",
     "text": [
      "dict_items([('var_a', 7.0), ('var_b', 12.0)])\n"
     ]
    }
   ],
   "source": [
    "aa = 9.\n",
    "aa, bb = 9., 10. # asignación multiple\n",
    "print (dict_a.items())"
   ]
  },
  {
   "cell_type": "code",
   "execution_count": 10,
   "id": "a5ab2a66",
   "metadata": {},
   "outputs": [
    {
     "name": "stdout",
     "output_type": "stream",
     "text": [
      "var_a 7.0 <class 'float'>\n",
      "var_b 12.0 <class 'float'>\n"
     ]
    }
   ],
   "source": [
    "# Si queremos ver todo los que hay en un diccionario\n",
    "for key_i, elem_i in dict_a.items():\n",
    "    print (key_i, elem_i, type(elem_i))"
   ]
  },
  {
   "cell_type": "markdown",
   "id": "4bd3d95d",
   "metadata": {},
   "source": [
    "Los diccionarios pueden contener cualquier cosa: reales, imaginarios, flotantes, string, listas, tuplas, vectores, matrices, otros diccionarios (bummm)"
   ]
  },
  {
   "cell_type": "code",
   "execution_count": 11,
   "id": "c0d5d5cd",
   "metadata": {},
   "outputs": [
    {
     "name": "stdout",
     "output_type": "stream",
     "text": [
      "{'num': 89.0}\n",
      "{'num': 89.0, 'str': 'Julián'}\n",
      "{'num': 89.0, 'str': 'Julián', 'list': range(0, 5)}\n",
      "{'num': 89.0, 'str': 'Julián', 'list': range(0, 5), 'tuple': (6.0, 7.0)}\n",
      "{'num': 89.0, 'str': 'Julián', 'list': range(0, 5), 'tuple': (6.0, 7.0), 'other_dict': {'other_str': 'el_juli', 'other_num': 14.0}}\n"
     ]
    }
   ],
   "source": [
    "keys_arr = ['num','str','list', 'tuple', 'other_dict']\n",
    "a_num   = 89.\n",
    "a_str   = 'Julián'\n",
    "a_list  = range(5)\n",
    "a_tuple = (6., 7.)\n",
    "a_dict  = {'other_str': 'el_juli', 'other_num':14.}\n",
    "\n",
    "dict_b = {}\n",
    "for ii in keys_arr:\n",
    "    if ii == 'num': dict_b.update({ii:a_num})\n",
    "    if ii == 'str': dict_b.update({ii:a_str})\n",
    "    if ii == 'list': dict_b.update({ii:a_list})\n",
    "    if ii == 'tuple': dict_b.update({ii:a_tuple})\n",
    "    if ii == 'other_dict': dict_b.update({ii:a_dict})\n",
    "    print (dict_b)"
   ]
  },
  {
   "cell_type": "code",
   "execution_count": 12,
   "id": "d500c6ec",
   "metadata": {},
   "outputs": [
    {
     "name": "stdout",
     "output_type": "stream",
     "text": [
      "0 num ---- H\n",
      "1 str ---- O\n",
      "2 list ---- L\n",
      "3 tuple ---- A\n",
      "4 other_dict ---- S\n"
     ]
    }
   ],
   "source": [
    "keys_arr = ['num','str','list', 'tuple', 'other_dict']\n",
    "arr_test = ['H','O','L','A','S']\n",
    "\n",
    "for jj,element_jj in enumerate(keys_arr):\n",
    "    print (jj, element_jj,'----',arr_test[jj])"
   ]
  },
  {
   "cell_type": "markdown",
   "id": "e1b59122",
   "metadata": {},
   "source": [
    "# Funciones en python"
   ]
  },
  {
   "cell_type": "code",
   "execution_count": 13,
   "id": "9aa3d4c1",
   "metadata": {},
   "outputs": [],
   "source": [
    "def operaciones_algebraicas(a,b):\n",
    "    suma = a + b\n",
    "    resta = a - b\n",
    "    multiplicacion = a*b\n",
    "    print ('La suma entre a y b es: ', suma)\n",
    "    print ('La resta entre a y b es: ', resta)\n",
    "    print ('La multiplicación entre a y b es: ', multiplicacion)\n",
    "    return suma, resta, multiplicacion"
   ]
  },
  {
   "cell_type": "code",
   "execution_count": 14,
   "id": "6f58b8dd",
   "metadata": {},
   "outputs": [
    {
     "name": "stdout",
     "output_type": "stream",
     "text": [
      "La suma entre a y b es:  170.0\n",
      "La resta entre a y b es:  144.0\n",
      "La multiplicación entre a y b es:  2041.0\n",
      "144.0\n"
     ]
    }
   ],
   "source": [
    "a_1 = 157.\n",
    "b_1 =13.\n",
    "\n",
    "la_suma, la_res, la_mul = operaciones_algebraicas(a_1,b_1)\n",
    "print (la_res)"
   ]
  },
  {
   "cell_type": "code",
   "execution_count": 15,
   "id": "56127819",
   "metadata": {},
   "outputs": [
    {
     "name": "stdout",
     "output_type": "stream",
     "text": [
      "La suma entre a y b es:  170.0\n",
      "La resta entre a y b es:  144.0\n",
      "La multiplicación entre a y b es:  2041.0\n"
     ]
    }
   ],
   "source": [
    "a_1 = 157.\n",
    "b_1 =13.\n",
    "\n",
    "sum_r, resta_r, mult_r = operaciones_algebraicas(a_1,b_1)"
   ]
  },
  {
   "cell_type": "markdown",
   "id": "58dcb905",
   "metadata": {},
   "source": [
    "Es posible crear funciones con argumentos adicionales con argumentos adicionales."
   ]
  },
  {
   "cell_type": "code",
   "execution_count": 16,
   "id": "52686ed8",
   "metadata": {},
   "outputs": [],
   "source": [
    "def operaciones_algebraicas2(a,b,*args):\n",
    "    suma = a + b\n",
    "    resta = a - b\n",
    "    multiplicacion = a*b\n",
    "    for i in args:\n",
    "        print ('Estoy en el for porque tengo argumentos')\n",
    "        print (i)\n",
    "        suma = suma + i\n",
    "    print ('La suma entre a y b es: ', suma)\n",
    "    print ('La resta entre a y b es: ', resta)\n",
    "    print ('La multiplicación entre a y b es: ', multiplicacion)\n",
    "    return suma"
   ]
  },
  {
   "cell_type": "code",
   "execution_count": 17,
   "id": "f899ffbe",
   "metadata": {},
   "outputs": [
    {
     "name": "stdout",
     "output_type": "stream",
     "text": [
      "La suma entre a y b es:  170.0\n",
      "La resta entre a y b es:  144.0\n",
      "La multiplicación entre a y b es:  2041.0\n"
     ]
    }
   ],
   "source": [
    "test1_1 = operaciones_algebraicas2(a_1,b_1)"
   ]
  },
  {
   "cell_type": "code",
   "execution_count": 18,
   "id": "b855b7e4",
   "metadata": {},
   "outputs": [
    {
     "name": "stdout",
     "output_type": "stream",
     "text": [
      "Estoy en el for porque tengo argumentos\n",
      "20.0\n",
      "La suma entre a y b es:  190.0\n",
      "La resta entre a y b es:  144.0\n",
      "La multiplicación entre a y b es:  2041.0\n"
     ]
    }
   ],
   "source": [
    "test1_1 = operaciones_algebraicas2(a_1,b_1, 20.)"
   ]
  },
  {
   "cell_type": "code",
   "execution_count": 19,
   "id": "41b00351",
   "metadata": {},
   "outputs": [],
   "source": [
    "def operaciones_algebraicas3(a,b,**kwargs):\n",
    "    suma = a + b\n",
    "    resta = a - b\n",
    "    multiplicacion = a*b\n",
    "    n_keys = kwargs.keys()\n",
    "    print (n_keys)\n",
    "    if len(n_keys) > 0.:\n",
    "        for jj in n_keys:\n",
    "            try:\n",
    "                suma = suma + kwargs[jj]\n",
    "            except:\n",
    "                print ('El kwarg es un string: '+kwargs[jj])\n",
    "    print ('La suma entre a y b es: ', suma)\n",
    "    print ('La resta entre a y b es: ', resta)\n",
    "    print ('La multiplicación entre a y b es: ', multiplicacion)\n",
    "    return suma"
   ]
  },
  {
   "cell_type": "code",
   "execution_count": 20,
   "id": "47998454",
   "metadata": {},
   "outputs": [
    {
     "name": "stdout",
     "output_type": "stream",
     "text": [
      "dict_keys([])\n",
      "La suma entre a y b es:  170.0\n",
      "La resta entre a y b es:  144.0\n",
      "La multiplicación entre a y b es:  2041.0\n"
     ]
    }
   ],
   "source": [
    "test2_1 = operaciones_algebraicas3(a_1,b_1)"
   ]
  },
  {
   "cell_type": "code",
   "execution_count": 21,
   "id": "e2ff924b",
   "metadata": {},
   "outputs": [
    {
     "name": "stdout",
     "output_type": "stream",
     "text": [
      "dict_keys(['hey', 'hey2'])\n",
      "El kwarg es un string: julian\n",
      "La suma entre a y b es:  177.0\n",
      "La resta entre a y b es:  144.0\n",
      "La multiplicación entre a y b es:  2041.0\n"
     ]
    }
   ],
   "source": [
    "test2_2 = operaciones_algebraicas3(a_1, b_1, hey = 'julian', hey2 = 7.)"
   ]
  },
  {
   "cell_type": "markdown",
   "id": "5f1a5b7c",
   "metadata": {},
   "source": [
    "# Ejercicio en clase\n",
    "\n",
    "Creación de una función que sume los elementos de dos listas de igual cantidad de elesmentos. Explicar la función map y lambda .... Ñapa for en una linea"
   ]
  },
  {
   "cell_type": "code",
   "execution_count": 22,
   "id": "82c861fa",
   "metadata": {},
   "outputs": [],
   "source": [
    "def suma_vect(x,y):\n",
    "    list_sum = []\n",
    "    for i, elem_i in enumerate(x):\n",
    "        suma_dummy = elem_i + y[i]\n",
    "        list_sum.append(suma_dummy)\n",
    "    return list_sum"
   ]
  },
  {
   "cell_type": "markdown",
   "id": "0b4ed512",
   "metadata": {},
   "source": [
    "Recordar que append toma una lista y agrega un elemento al final. enumerate() por su parte extrae los indeces y los elementos de una lista los cuales pueden se asignados usando asignación multiple."
   ]
  },
  {
   "cell_type": "code",
   "execution_count": 23,
   "id": "48dbf92f",
   "metadata": {},
   "outputs": [],
   "source": [
    "def suma_vect2(x,y):\n",
    "    list_sum = []\n",
    "    for elem_i, elem_j in zip(x,y):\n",
    "        print (elem_i, elem_j)\n",
    "        suma_dummy = elem_i + elem_j\n",
    "        list_sum.append(suma_dummy)\n",
    "    return list_sum"
   ]
  },
  {
   "cell_type": "code",
   "execution_count": 24,
   "id": "4b53d1d9",
   "metadata": {},
   "outputs": [
    {
     "name": "stdout",
     "output_type": "stream",
     "text": [
      "1.0 4.0\n",
      "2.0 5.0\n",
      "3.0 6.0\n"
     ]
    }
   ],
   "source": [
    "a_list = [1.,2.,3.]\n",
    "b_list = [4.,5.,6.]\n",
    "\n",
    "result2 = suma_vect2(a_list, b_list)\n",
    "\n",
    "\n"
   ]
  },
  {
   "cell_type": "markdown",
   "id": "cfccd14e",
   "metadata": {},
   "source": [
    "herramienta map()\n",
    "herramienta lambda()\n",
    "For en una linea "
   ]
  },
  {
   "cell_type": "code",
   "execution_count": 25,
   "id": "469ac209",
   "metadata": {},
   "outputs": [
    {
     "name": "stdout",
     "output_type": "stream",
     "text": [
      "[5.0, 7.0, 9.0]\n"
     ]
    }
   ],
   "source": [
    "result3 = list(map(lambda x: x**3., a_list))\n",
    "result4 = list(map(lambda x,y : x + y, a_list, b_list))\n",
    "result5 = [element_i + element_j for element_i, element_j in zip(a_list, b_list)]\n",
    "print (result5)"
   ]
  },
  {
   "cell_type": "markdown",
   "id": "392a5add",
   "metadata": {},
   "source": [
    "# Lectura de archivos de texto plano- Método manual"
   ]
  },
  {
   "cell_type": "markdown",
   "id": "52206e8e",
   "metadata": {},
   "source": [
    "## Lectura de datos de texto plano de forma manual\n",
    "Para esto debe abrirse el archivo y recorrer linea a linea leyendolo como una cadena de caracteres.\n",
    "Tip: Es importante el comando read_lines()"
   ]
  },
  {
   "cell_type": "code",
   "execution_count": 26,
   "id": "36fb6204",
   "metadata": {},
   "outputs": [
    {
     "name": "stdout",
     "output_type": "stream",
     "text": [
      "Datos para hacer el taller\n",
      "\n"
     ]
    }
   ],
   "source": [
    "path_data = '/Users/jsepulveda/Documents/asignaturas/curso_PythonBasico/datos/'\n",
    "name_data = 'set_head.csv'\n",
    "file = open(path_data+name_data, 'r')\n",
    "#for line2 in file.readlines():\n",
    "#    print (line2)\n",
    "\n",
    "print (file.readline())"
   ]
  },
  {
   "cell_type": "code",
   "execution_count": 27,
   "id": "896d15c0",
   "metadata": {},
   "outputs": [
    {
     "name": "stdout",
     "output_type": "stream",
     "text": [
      "Estos  datos son sumamente importantes para hacer algo\n",
      "\n"
     ]
    }
   ],
   "source": [
    "print (file.readline())"
   ]
  },
  {
   "cell_type": "markdown",
   "id": "a4ff6c63",
   "metadata": {},
   "source": [
    "A medida que se usa readline() se va leyendo una a una las lineas del archivo que se abre."
   ]
  },
  {
   "cell_type": "code",
   "execution_count": 12,
   "id": "935b8b26",
   "metadata": {},
   "outputs": [],
   "source": [
    "file.close()"
   ]
  },
  {
   "cell_type": "code",
   "execution_count": 29,
   "id": "dae145d4",
   "metadata": {},
   "outputs": [],
   "source": [
    "path_data = '/Users/jsepulveda/Documents/asignaturas/curso_PythonBasico/datos/'\n",
    "name_data = 'set_head.csv'\n",
    "\n",
    "N_head = 4\n",
    "delimitador = ','\n",
    "file = open(path_data+name_data, 'r')\n",
    "#Lectura de encabezados\n",
    "if N_head > 0:\n",
    "        header = np.array([])\n",
    "        for i in range(N_head):\n",
    "                elemento = file.readline()\n",
    "                header = np.append(header, elemento)\n",
    "else:\n",
    "        header = np.array(['El archivo no posee encabezado'])\n",
    "        \n",
    "        \n",
    "datos =np.array([])\n",
    "N_rows = 0 \n",
    "for line2 in file.readlines():\n",
    "        aux_line = line2.replace('\\n', ' ').strip().split(delimitador)\n",
    "        N_rows = N_rows + 1\n",
    "        N_cols = len(aux_line)\n",
    "        datos  = np.append(datos, aux_line) \n",
    "\n",
    "file.close()"
   ]
  },
  {
   "cell_type": "markdown",
   "id": "e5314d99",
   "metadata": {},
   "source": [
    "En el anterior porcedimiento se lee un archivo de forma \"manual\". Para hacer esto se usa: \n",
    "\\begin{itemize}\n",
    "\\item open() para abrir el archivo, es necesario especificar la ruta y el nombre del archivo.\n",
    "\\item Conociendo la estructura se define la cantidad de lineas que tiene el encabezado, se leen con readline() y se usa append para guardar en un arreglo.\n",
    "\\item Se usa readlines() para leer las filas faltantes y operaciones con cadenas de caracteres para tabular la información y definir las dimensiones del arreglo. \n",
    "\\end{itemize}\n"
   ]
  },
  {
   "cell_type": "code",
   "execution_count": 36,
   "id": "4929e3c1",
   "metadata": {},
   "outputs": [
    {
     "name": "stdout",
     "output_type": "stream",
     "text": [
      "501 14\n",
      "(7014,)\n"
     ]
    }
   ],
   "source": [
    "print (N_rows, N_cols)\n",
    "print (np.shape(datos))"
   ]
  },
  {
   "cell_type": "code",
   "execution_count": 37,
   "id": "916039ac",
   "metadata": {},
   "outputs": [
    {
     "name": "stdout",
     "output_type": "stream",
     "text": [
      "[['Datos1' 'Datos2' 'Datos3' ... 'Datos12' 'Datos13' 'Datos14']\n",
      " ['78.848' '17.132' '43.368' ... '41.924' '6.653' '19.444']\n",
      " ['91.245' '30.653' '99.462' ... '68.716' '84.313' '78.308']\n",
      " ...\n",
      " ['12.786' '53.643' '79.909' ... '75.467' '43.701' '1.672']\n",
      " ['27.508' '14.218' '82.266' ... '63.993' '97.843' '6.905']\n",
      " ['21.498' '31.212' '12.907' ... '10.251' '0.695' '15.759']]\n",
      "(501, 14)\n"
     ]
    }
   ],
   "source": [
    "m_data1 = np.reshape(datos, (N_rows, N_cols)) # vuelve el arreglo 1D en una matriz 2D \n",
    "print (m_data1)\n",
    "print (np.shape(m_data1))"
   ]
  },
  {
   "cell_type": "code",
   "execution_count": 39,
   "id": "16060484",
   "metadata": {},
   "outputs": [],
   "source": [
    "x_array = np.arange(0., 5., 0.1) # Creación de vector genérico con paso constante\n",
    "y_array = np.linspace(0., 4., 49) # Creación de vector genérico con cantidad fija de elementos."
   ]
  },
  {
   "cell_type": "code",
   "execution_count": 40,
   "id": "b576aa0e",
   "metadata": {},
   "outputs": [
    {
     "name": "stdout",
     "output_type": "stream",
     "text": [
      "[3.  3.1 3.2 3.3 3.4 3.5 3.6 3.7 3.8 3.9 4. ]\n",
      "11\n"
     ]
    }
   ],
   "source": [
    "subx_array = x_array[30:41] # Ejemplo de manejo de indices en  un arreglo 1D\n",
    "print (subx_array)\n",
    "print (len(subx_array))"
   ]
  },
  {
   "cell_type": "code",
   "execution_count": 41,
   "id": "2f2145ea",
   "metadata": {},
   "outputs": [
    {
     "name": "stdout",
     "output_type": "stream",
     "text": [
      "['78.848' '91.245' '75.712' '87.649' '21.963' '62.373' '98.577' '35.235'\n",
      " '18.410' '41.421' '60.521' '4.430' '87.678' '55.561' '6.464' '1.136'\n",
      " '55.490' '85.134' '69.815' '90.778' '77.847' '87.849' '90.271' '1.077'\n",
      " '35.866' '88.286' '39.350' '98.845' '81.949' '18.562' '80.708' '26.071'\n",
      " '10.740' '4.650' '50.629' '79.623' '25.989' '96.799' '32.630' '36.199'\n",
      " '87.168' '83.317' '29.071' '48.523' '80.020' '75.226' '87.947' '63.353'\n",
      " '49.597' '84.373' '15.388' '62.044' '26.445' '57.210' '52.212' '90.007'\n",
      " '50.325' '41.375' '81.929' '14.722' '83.102' '79.051' '68.066' '51.862'\n",
      " '76.695' '34.559' '11.304' '3.160' '66.134' '46.267' '96.475' '33.451'\n",
      " '93.620' '59.081' '69.321' '53.249' '50.723' '74.275' '64.305' '7.648'\n",
      " '7.014' '52.766' '49.914' '13.059' '62.951' '5.047' '74.248' '64.835'\n",
      " '62.099' '3.915' '1.881' '37.741' '2.464' '94.148' '99.269' '41.459'\n",
      " '17.856' '4.404' '88.782' '85.179' '65.509' '44.317' '78.128' '69.732'\n",
      " '7.360' '11.748' '95.813' '94.546' '15.829' '11.744' '37.080' '15.272'\n",
      " '82.034' '63.127' '26.414' '32.895' '97.749' '18.810' '55.429' '74.708'\n",
      " '95.353' '76.329' '1.710' '51.853' '5.281' '23.957' '28.617' '40.712'\n",
      " '0.780' '19.964' '89.732' '53.060' '2.971' '20.330' '32.556' '14.201'\n",
      " '49.669' '20.501' '92.412' '77.152' '42.268' '45.906' '49.090' '11.970'\n",
      " '51.205' '32.808' '73.715' '6.586' '12.170' '67.927' '29.036' '73.652'\n",
      " '63.683' '80.237' '96.048' '76.234' '11.765' '25.281' '31.894' '14.196'\n",
      " '37.598' '76.321' '22.921' '51.931' '81.718' '40.144' '94.945' '31.883'\n",
      " '14.660' '13.434' '64.714' '64.193' '70.143' '20.690' '72.059' '52.928'\n",
      " '54.357' '38.382' '96.984' '76.275' '56.720' '66.676' '68.489' '31.049'\n",
      " '51.359' '65.240' '13.348' '98.040' '19.770' '49.011' '42.865' '66.727'\n",
      " '55.715' '48.303' '17.494' '28.238' '40.626' '36.208' '31.972' '6.840'\n",
      " '60.169' '78.197' '39.683' '56.958' '10.029' '69.124' '42.541' '90.599'\n",
      " '52.752' '28.039' '85.762' '0.310' '83.436' '76.844' '20.930' '28.342'\n",
      " '96.011' '91.708' '91.927' '39.821' '86.197' '38.060' '85.419' '4.686'\n",
      " '20.685' '11.614' '3.330' '87.277' '76.854' '45.761' '50.156' '0.959'\n",
      " '46.061' '29.151' '83.174' '45.733' '27.016' '33.856' '87.481' '49.643'\n",
      " '48.059' '34.415' '22.531' '37.104' '95.299' '0.821' '70.794' '60.001'\n",
      " '57.197' '76.323' '75.493' '47.688' '77.704' '94.241' '94.977' '63.252'\n",
      " '80.030' '69.981' '18.264' '24.434' '9.348' '38.750' '88.643' '79.126'\n",
      " '91.530' '89.220' '17.891' '16.412' '52.280' '77.814' '70.626' '13.994'\n",
      " '31.230' '89.385' '97.036' '82.660' '23.496' '58.428' '22.107' '44.219'\n",
      " '82.389' '82.603' '13.946' '6.984' '4.765' '63.877' '58.772' '98.231'\n",
      " '1.489' '24.341' '82.922' '4.803' '35.348' '11.252' '94.797' '74.531'\n",
      " '30.815' '5.956' '38.154' '23.650' '46.502' '66.449' '74.552' '30.558'\n",
      " '1.419' '6.581' '84.834' '62.542' '25.889' '27.895' '91.044' '0.179'\n",
      " '99.106' '56.409' '49.460' '41.194' '31.251' '54.271' '74.304' '68.102'\n",
      " '57.647' '29.378' '76.076' '98.110' '34.132' '47.299' '76.757' '83.096'\n",
      " '4.732' '92.483' '87.970' '55.116' '87.955' '13.737' '78.767' '10.330'\n",
      " '88.099' '43.893' '88.305' '7.335' '10.801' '93.234' '81.639' '32.170'\n",
      " '75.305' '11.981' '18.014' '76.686' '78.833' '61.086' '17.613' '78.465'\n",
      " '41.391' '37.008' '28.120' '45.373' '24.214' '53.673' '56.778' '94.626'\n",
      " '37.483' '17.848' '13.231' '10.745' '44.011' '95.842' '3.476' '35.104'\n",
      " '96.051' '59.623' '84.776' '17.866' '97.461' '34.318' '43.329' '18.456'\n",
      " '80.280' '18.981' '37.233' '19.147' '3.017' '59.929' '25.383' '94.253'\n",
      " '3.073' '98.479' '75.275' '16.227' '30.942' '46.325' '13.938' '56.736'\n",
      " '39.579' '9.710' '98.558' '49.763' '90.245' '60.321' '54.386' '82.110'\n",
      " '98.289' '49.988' '70.757' '93.527' '44.890' '35.786' '30.682' '73.218'\n",
      " '88.886' '34.572' '40.129' '89.686' '3.184' '55.273' '51.412' '90.667'\n",
      " '41.379' '99.423' '33.043' '11.297' '40.079' '9.265' '43.262' '85.182'\n",
      " '83.665' '96.256' '70.016' '39.601' '34.207' '68.293' '97.595' '67.184'\n",
      " '25.137' '95.764' '87.256' '50.984' '84.683' '48.485' '60.569' '81.892'\n",
      " '3.079' '70.952' '90.669' '32.470' '89.532' '90.351' '37.472' '5.013'\n",
      " '6.117' '28.324' '81.006' '6.715' '49.137' '89.591' '87.860' '38.137'\n",
      " '7.176' '84.789' '24.866' '43.283' '28.109' '97.555' '68.492' '59.814'\n",
      " '90.569' '11.882' '43.365' '26.752' '12.844' '24.815' '46.075' '80.085'\n",
      " '3.317' '99.979' '96.467' '93.900' '81.582' '39.019' '56.221' '1.948'\n",
      " '64.582' '24.930' '38.202' '65.345' '84.339' '76.008' '39.389' '22.762'\n",
      " '54.954' '58.143' '34.064' '73.088' '42.449' '11.709' '35.921' '28.459'\n",
      " '60.959' '12.786' '27.508' '21.498']\n"
     ]
    }
   ],
   "source": [
    "datos1_arr = m_data1[1:, 0] # Manejo de indices en arreglos 2D\n",
    "print (datos1_arr)"
   ]
  },
  {
   "cell_type": "code",
   "execution_count": 42,
   "id": "e59d403c",
   "metadata": {},
   "outputs": [
    {
     "name": "stdout",
     "output_type": "stream",
     "text": [
      "['78.848' '91.245' '75.712' '87.649' '21.963' '62.373' '98.577' '35.235'\n",
      " '18.41' '41.421' '60.521' '4.43' '87.678' '55.561' '6.464' '1.136'\n",
      " '55.49' '85.134' '69.815' '90.778' '77.847' '87.849' '90.271' '1.077'\n",
      " '35.866' '88.286' '39.35' '98.845' '81.949' '18.562' '80.708' '26.071'\n",
      " '10.74' '4.65' '50.629' '79.623' '25.989' '96.799' '32.63' '36.199'\n",
      " '87.168' '83.317' '29.071' '48.523' '80.02' '75.226' '87.947' '63.353'\n",
      " '49.597' '84.373' '15.388' '62.044' '26.445' '57.21' '52.212' '90.007'\n",
      " '50.325' '41.375' '81.929' '14.722' '83.102' '79.051' '68.066' '51.862'\n",
      " '76.695' '34.559' '11.304' '3.16' '66.134' '46.267' '96.475' '33.451'\n",
      " '93.62' '59.081' '69.321' '53.249' '50.723' '74.275' '64.305' '7.648'\n",
      " '7.014' '52.766' '49.914' '13.059' '62.951' '5.047' '74.248' '64.835'\n",
      " '62.099' '3.915' '1.881' '37.741' '2.464' '94.148' '99.269' '41.459'\n",
      " '17.856' '4.404' '88.782' '85.179' '65.509' '44.317' '78.128' '69.732'\n",
      " '7.36' '11.748' '95.813' '94.546' '15.829' '11.744' '37.08' '15.272'\n",
      " '82.034' '63.127' '26.414' '32.895' '97.749' '18.81' '55.429' '74.708'\n",
      " '95.353' '76.329' '1.71' '51.853' '5.281' '23.957' '28.617' '40.712'\n",
      " '0.78' '19.964' '89.732' '53.06' '2.971' '20.33' '32.556' '14.201'\n",
      " '49.669' '20.501' '92.412' '77.152' '42.268' '45.906' '49.09' '11.97'\n",
      " '51.205' '32.808' '73.715' '6.586' '12.17' '67.927' '29.036' '73.652'\n",
      " '63.683' '80.237' '96.048' '76.234' '11.765' '25.281' '31.894' '14.196'\n",
      " '37.598' '76.321' '22.921' '51.931' '81.718' '40.144' '94.945' '31.883'\n",
      " '14.66' '13.434' '64.714' '64.193' '70.143' '20.69' '72.059' '52.928'\n",
      " '54.357' '38.382' '96.984' '76.275' '56.72' '66.676' '68.489' '31.049'\n",
      " '51.359' '65.24' '13.348' '98.04' '19.77' '49.011' '42.865' '66.727'\n",
      " '55.715' '48.303' '17.494' '28.238' '40.626' '36.208' '31.972' '6.84'\n",
      " '60.169' '78.197' '39.683' '56.958' '10.029' '69.124' '42.541' '90.599'\n",
      " '52.752' '28.039' '85.762' '0.31' '83.436' '76.844' '20.93' '28.342'\n",
      " '96.011' '91.708' '91.927' '39.821' '86.197' '38.06' '85.419' '4.686'\n",
      " '20.685' '11.614' '3.33' '87.277' '76.854' '45.761' '50.156' '0.959'\n",
      " '46.061' '29.151' '83.174' '45.733' '27.016' '33.856' '87.481' '49.643'\n",
      " '48.059' '34.415' '22.531' '37.104' '95.299' '0.821' '70.794' '60.001'\n",
      " '57.197' '76.323' '75.493' '47.688' '77.704' '94.241' '94.977' '63.252'\n",
      " '80.03' '69.981' '18.264' '24.434' '9.348' '38.75' '88.643' '79.126'\n",
      " '91.53' '89.22' '17.891' '16.412' '52.28' '77.814' '70.626' '13.994'\n",
      " '31.23' '89.385' '97.036' '82.66' '23.496' '58.428' '22.107' '44.219'\n",
      " '82.389' '82.603' '13.946' '6.984' '4.765' '63.877' '58.772' '98.231'\n",
      " '1.489' '24.341' '82.922' '4.803' '35.348' '11.252' '94.797' '74.531'\n",
      " '30.815' '5.956' '38.154' '23.65' '46.502' '66.449' '74.552' '30.558'\n",
      " '1.419' '6.581' '84.834' '62.542' '25.889' '27.895' '91.044' '0.179'\n",
      " '99.106' '56.409' '49.46' '41.194' '31.251' '54.271' '74.304' '68.102'\n",
      " '57.647' '29.378' '76.076' '98.11' '34.132' '47.299' '76.757' '83.096'\n",
      " '4.732' '92.483' '87.97' '55.116' '87.955' '13.737' '78.767' '10.33'\n",
      " '88.099' '43.893' '88.305' '7.335' '10.801' '93.234' '81.639' '32.17'\n",
      " '75.305' '11.981' '18.014' '76.686' '78.833' '61.086' '17.613' '78.465'\n",
      " '41.391' '37.008' '28.12' '45.373' '24.214' '53.673' '56.778' '94.626'\n",
      " '37.483' '17.848' '13.231' '10.745' '44.011' '95.842' '3.476' '35.104'\n",
      " '96.051' '59.623' '84.776' '17.866' '97.461' '34.318' '43.329' '18.456'\n",
      " '80.28' '18.981' '37.233' '19.147' '3.017' '59.929' '25.383' '94.253'\n",
      " '3.073' '98.479' '75.275' '16.227' '30.942' '46.325' '13.938' '56.736'\n",
      " '39.579' '9.71' '98.558' '49.763' '90.245' '60.321' '54.386' '82.11'\n",
      " '98.289' '49.988' '70.757' '93.527' '44.89' '35.786' '30.682' '73.218'\n",
      " '88.886' '34.572' '40.129' '89.686' '3.184' '55.273' '51.412' '90.667'\n",
      " '41.379' '99.423' '33.043' '11.297' '40.079' '9.265' '43.262' '85.182'\n",
      " '83.665' '96.256' '70.016' '39.601' '34.207' '68.293' '97.595' '67.184'\n",
      " '25.137' '95.764' '87.256' '50.984' '84.683' '48.485' '60.569' '81.892'\n",
      " '3.079' '70.952' '90.669' '32.47' '89.532' '90.351' '37.472' '5.013'\n",
      " '6.117' '28.324' '81.006' '6.715' '49.137' '89.591' '87.86' '38.137'\n",
      " '7.176' '84.789' '24.866' '43.283' '28.109' '97.555' '68.492' '59.814'\n",
      " '90.569' '11.882' '43.365' '26.752' '12.844' '24.815' '46.075' '80.085'\n",
      " '3.317' '99.979' '96.467' '93.9' '81.582' '39.019' '56.221' '1.948'\n",
      " '64.582' '24.93' '38.202' '65.345' '84.339' '76.008' '39.389' '22.762'\n",
      " '54.954' '58.143' '34.064' '73.088' '42.449' '11.709' '35.921' '28.459'\n",
      " '60.959' '12.786' '27.508' '21.498']\n"
     ]
    }
   ],
   "source": [
    "# Fromas de cambiar el tipo varible en un arreglo.\n",
    "\n",
    "datos1_1float = np.array(list(map(lambda x: float(x), datos1_arr)))\n",
    "datos1_2float = datos1_arr.astype('float')\n",
    "datos1_2str   = datos1_2float.astype('str')\n",
    "print (datos1_2str)"
   ]
  },
  {
   "cell_type": "code",
   "execution_count": 43,
   "id": "a50aaf53",
   "metadata": {},
   "outputs": [
    {
     "data": {
      "text/plain": [
       "[<matplotlib.lines.Line2D at 0x7fdddd4d89a0>]"
      ]
     },
     "execution_count": 43,
     "metadata": {},
     "output_type": "execute_result"
    },
    {
     "data": {
      "image/png": "[encoded data removed]",
      "text/plain": [
       "<Figure size 432x288 with 1 Axes>"
      ]
     },
     "metadata": {
      "needs_background": "light"
     },
     "output_type": "display_data"
    }
   ],
   "source": [
    "import matplotlib.pyplot as plt\n",
    "\n",
    "plt.plot(datos1_2float) # Graficado rápido para inspección de mis datos. "
   ]
  },
  {
   "cell_type": "markdown",
   "id": "b3196352",
   "metadata": {},
   "source": [
    "## Paso a paso en el manejo de strings y lectura linea a linea.\n",
    "En la clase se usaron los siguientes bloques de codigo para hacer un paso a paso del procedimiento para la lectura del archivo. Más específicamente la lectura de las lineas de encabezado."
   ]
  },
  {
   "cell_type": "code",
   "execution_count": 45,
   "id": "f55718f9",
   "metadata": {},
   "outputs": [
    {
     "data": {
      "text/plain": [
       "array(['Datos para hacer el taller\\n',\n",
       "       'Estos  datos son sumamente importantes para hacer algo\\n',\n",
       "       'Scale = ,50.48\\n', 'Offset = ,250.3\\n'], dtype='<U55')"
      ]
     },
     "execution_count": 45,
     "metadata": {},
     "output_type": "execute_result"
    }
   ],
   "source": [
    "path_data = '/Users/jsepulveda/Documents/asignaturas/curso_PythonBasico/datos/'\n",
    "name_data = 'set_head.csv'\n",
    "\n",
    "N_head = 4\n",
    "delimitador = ','\n",
    "file = open(path_data+name_data, 'r')\n",
    "#Lectura de encabezados\n",
    "if N_head > 0:\n",
    "        header = np.array([])\n",
    "        for i in range(N_head):\n",
    "                elemento = file.readline()\n",
    "                header = np.append(header, elemento)\n",
    "file.close()\n",
    "                \n",
    "header"
   ]
  },
  {
   "cell_type": "code",
   "execution_count": 46,
   "id": "7dbb0a9e",
   "metadata": {},
   "outputs": [
    {
     "name": "stdout",
     "output_type": "stream",
     "text": [
      "Scale\n",
      "50.48\n"
     ]
    }
   ],
   "source": [
    "scale_key = ((header[2].split(','))[0].replace('=','')).strip()\n",
    "scale_val = float((((header[2].split(','))[1].replace('\\n', '')).strip()))\n",
    "offset = header[3]\n",
    "print (scale_key)\n",
    "print (scale_val)"
   ]
  },
  {
   "cell_type": "markdown",
   "id": "bba033bf",
   "metadata": {},
   "source": [
    "## Usando las librerias de numpy"
   ]
  },
  {
   "cell_type": "code",
   "execution_count": 75,
   "id": "4fa00aa4",
   "metadata": {},
   "outputs": [],
   "source": [
    "name_data = 'set_head.csv'\n",
    "\n",
    "m_data1np = np.genfromtxt(path_data+name_data,\\\n",
    "            delimiter = ',', skip_header = 4,\\\n",
    "            dtype = str)\n",
    "m_data1np = m_data1np[1:,:].astype(float)"
   ]
  },
  {
   "cell_type": "code",
   "execution_count": 76,
   "id": "3e14e7cf",
   "metadata": {},
   "outputs": [
    {
     "name": "stdout",
     "output_type": "stream",
     "text": [
      "[[78.848 17.132 43.368 ... 41.924  6.653 19.444]\n",
      " [91.245 30.653 99.462 ... 68.716 84.313 78.308]\n",
      " [75.712 37.501 32.179 ... 10.114 33.415 97.686]\n",
      " ...\n",
      " [12.786 53.643 79.909 ... 75.467 43.701  1.672]\n",
      " [27.508 14.218 82.266 ... 63.993 97.843  6.905]\n",
      " [21.498 31.212 12.907 ... 10.251  0.695 15.759]]\n",
      "(500, 14)\n"
     ]
    }
   ],
   "source": [
    "print (m_data1np)\n",
    "print (np.shape(m_data1np))"
   ]
  },
  {
   "cell_type": "code",
   "execution_count": 77,
   "id": "44652e39",
   "metadata": {},
   "outputs": [
    {
     "data": {
      "text/plain": [
       "[<matplotlib.lines.Line2D at 0x7f815b9cdc10>]"
      ]
     },
     "execution_count": 77,
     "metadata": {},
     "output_type": "execute_result"
    },
    {
     "data": {
      "image/png": "[encoded data removed]",
      "text/plain": [
       "<Figure size 432x288 with 1 Axes>"
      ]
     },
     "metadata": {
      "needs_background": "light"
     },
     "output_type": "display_data"
    }
   ],
   "source": [
    "vector = m_data1np[:,0]\n",
    "\n",
    "plt.plot(vector)"
   ]
  },
  {
   "cell_type": "code",
   "execution_count": 49,
   "id": "b8185379",
   "metadata": {},
   "outputs": [],
   "source": [
    "import datetime as dt\n",
    "import numpy as np\n",
    "\n",
    "path_data = '/Users/jsepulveda/Documents/asignaturas/curso_PythonBasico/datos/'\n",
    "name_data2 = 'datos_lectura.csv'\n",
    "m_data2 = np.genfromtxt(path_data+name_data2,\\\n",
    "                        delimiter = ',', skip_header = 1,\\\n",
    "                        dtype = str)\n",
    "\n",
    "\n",
    "str_fecha  = m_data2[:,0]\n",
    "str_Z      = m_data2[:,1]\n",
    "str_intppt = m_data2[:,2]\n",
    "\n",
    "# ponemos los datos en un formato que podamos operar\n",
    "dt_fecha = list(map(lambda x:\\\n",
    "                    dt.datetime.strptime(x,'%Y/%m/%d %H:%M'),\\\n",
    "                    str_fecha))\n",
    "#print (dt_fecha)\n",
    "z_float  =  str_Z.astype(float)\n",
    "int_float=  str_intppt.astype(float)"
   ]
  },
  {
   "cell_type": "markdown",
   "id": "86082a07",
   "metadata": {},
   "source": [
    "En el anterior bloque se utiliza la función strptime de datetime para poner fechas definidas como string para que queden como un datetime y puean ser operadas; al combinar con la función lambda y map los efectos de strptime son aplicados a cada una de las entradas del arreglo. En las siguientes lineas de codigo se hará para una sola fecha con el fin de ampliar el concepto."
   ]
  },
  {
   "cell_type": "code",
   "execution_count": 50,
   "id": "7d5c3e14",
   "metadata": {},
   "outputs": [
    {
     "name": "stdout",
     "output_type": "stream",
     "text": [
      "<class 'str'>\n"
     ]
    }
   ],
   "source": [
    "dummy_fecha = '26-May-2021 03:40'\n",
    "print (type(dummy_fecha))"
   ]
  },
  {
   "cell_type": "code",
   "execution_count": 53,
   "id": "b627364e",
   "metadata": {},
   "outputs": [
    {
     "name": "stdout",
     "output_type": "stream",
     "text": [
      "<class 'datetime.datetime'>\n",
      "21_May -26\n"
     ]
    }
   ],
   "source": [
    "dummy_fecha_dt = dt.datetime.strptime(dummy_fecha, '%d-%b-%Y %H:%M')\n",
    "print (type(dummy_fecha_dt))\n",
    "\n",
    "str_fecha = dt.datetime.strftime(dummy_fecha_dt, '%y_%B -%d')\n",
    "print (str_fecha)"
   ]
  },
  {
   "cell_type": "markdown",
   "id": "c46e5510",
   "metadata": {},
   "source": [
    "Tener los arreglos como vectores de numpy tiene ventajas al momento de operar, es posible encontrar de forma fácil el máximo, el minimo, valores típicos de estadística paramétrica como (media, desviación estandar.. entre otros) y de estadística no paramétrica como (median, IQR, MAD, ... entre otros)"
   ]
  },
  {
   "cell_type": "code",
   "execution_count": 52,
   "id": "9a95b766",
   "metadata": {},
   "outputs": [
    {
     "name": "stdout",
     "output_type": "stream",
     "text": [
      "9455.837\n",
      "0.354\n",
      "1717.070338235294\n",
      "2090.2406534832085\n"
     ]
    }
   ],
   "source": [
    "print (np.max(z_float))\n",
    "print (np.min(z_float))\n",
    "print (np.mean(z_float))\n",
    "print (np.std(z_float))"
   ]
  },
  {
   "cell_type": "code",
   "execution_count": 13,
   "id": "d03f3d5c",
   "metadata": {},
   "outputs": [
    {
     "name": "stdout",
     "output_type": "stream",
     "text": [
      "[1.785250e+02 4.028098e+03 4.256960e+02 3.173219e+03 2.806726e+03\n",
      " 1.014846e+03 7.992819e+03 3.972000e+00 6.674212e+03 4.641945e+03\n",
      " 8.154550e+03 6.078550e+02 2.048330e+02 1.409300e+01 4.393392e+03\n",
      " 1.100019e+03 1.608422e+03 1.911613e+03 7.517960e+02 7.232692e+03\n",
      " 2.988130e+02 3.540000e-01 1.724646e+03 4.230581e+03 1.990673e+03\n",
      " 2.549177e+03 2.990198e+03 5.819692e+03 2.171201e+03 1.224898e+03\n",
      " 1.388990e+02 7.384100e+01 2.274050e+03 1.139720e+02 9.451480e+02\n",
      " 5.397591e+03 8.556580e+02 4.176380e+02 5.529680e+02 4.428940e+02\n",
      " 2.205970e+02 6.295060e+02 6.961500e+01 5.463870e+02 2.468312e+03\n",
      " 9.455837e+03 7.331621e+03 1.170308e+03 5.008411e+03 5.745130e+02\n",
      " 9.105420e+02 3.885080e+03 1.313107e+03 1.430210e+02 2.359900e+01\n",
      " 2.373560e+02 8.154550e+03 3.029703e+03 1.792256e+03 2.782920e+02\n",
      " 5.792953e+03 5.227572e+03 1.459486e+03 3.971900e+01 5.500470e+02\n",
      " 2.072526e+03 7.486860e+02 9.455840e+02 9.869600e+01 3.015780e+02\n",
      " 1.962000e+02 1.459822e+03 1.074979e+03 1.886688e+03 1.107899e+03\n",
      " 4.138090e+02 9.833320e+02 1.365530e+02 4.884270e+02 2.316861e+03\n",
      " 1.876700e+01 8.764000e+01 2.480280e+02 7.416500e+01 1.843320e+02\n",
      " 7.169680e+02 8.007560e+02 6.594775e+03 1.357063e+03 6.697300e+02\n",
      " 2.723330e+02 1.061451e+03 2.317930e+02 8.615890e+02 5.843900e+01\n",
      " 4.434044e+03 1.920000e+01 1.042077e+03 4.394404e+03 8.867480e+02\n",
      " 1.208370e+02 3.057000e+01 7.647160e+02 1.433840e+02 4.615300e+02\n",
      " 2.056838e+03 1.992970e+02 4.074741e+03 8.600000e+01 3.716208e+03\n",
      " 7.085981e+03 6.646607e+03 1.498300e+02 2.549180e+02 2.116411e+03\n",
      " 4.397441e+03 3.182730e+02 2.349630e+02 7.375640e+02 7.796510e+02\n",
      " 3.794020e+02 5.108578e+03 9.558730e+02 1.489000e+01 3.619100e+02\n",
      " 5.889790e+02 2.020691e+03 1.744215e+03 2.712100e+01 1.073250e+02\n",
      " 4.516479e+03 1.932860e+02 2.509570e+02 1.052931e+03 3.974660e+02\n",
      " 7.107220e+02 8.770010e+02 1.119440e+02 5.031529e+03 5.695082e+03\n",
      " 5.855986e+03 1.238226e+03 8.340650e+02 3.840608e+03 8.898200e+01\n",
      " 6.875432e+03 3.755779e+03 2.650330e+03 1.829785e+03 1.327000e+00\n",
      " 7.792920e+02 5.722690e+02 2.707700e+02 1.012740e+02 4.711000e+00\n",
      " 4.120030e+02 2.836610e+02 6.256047e+03 1.222081e+03 4.228630e+02\n",
      " 7.040443e+03 6.192980e+02 2.156250e+02 5.262600e+02 2.521740e+02\n",
      " 3.438750e+02 7.978100e+01 1.206146e+03 1.963360e+03 3.493011e+03\n",
      " 2.739680e+02 1.301967e+03 3.001930e+02 2.916755e+03 5.268660e+02\n",
      " 3.441121e+03 2.222286e+03 3.814170e+02 3.309790e+02 3.072560e+02\n",
      " 6.245970e+02 2.253720e+03 1.318860e+02 5.453810e+02 3.045089e+03\n",
      " 1.780330e+02 9.395000e+00 5.052426e+03 8.972220e+02 1.123570e+03\n",
      " 1.190419e+03 1.148154e+03 1.014846e+03 4.421809e+03 5.436300e+01\n",
      " 3.743690e+02 2.497500e+01 2.090259e+03 1.174090e+02 1.047611e+03\n",
      " 3.272653e+03 8.972220e+02 1.243083e+03 2.728980e+02]\n",
      "(204,)\n"
     ]
    }
   ],
   "source": [
    "print (z_float)\n",
    "print (np.shape(z_float))"
   ]
  },
  {
   "cell_type": "markdown",
   "id": "ec0f053d",
   "metadata": {},
   "source": [
    "Otra de las grandes ventajas es el uso del \"where\" para filtrar mis datos usando diferentes condiciones"
   ]
  },
  {
   "cell_type": "code",
   "execution_count": 19,
   "id": "d786c664",
   "metadata": {},
   "outputs": [
    {
     "name": "stdout",
     "output_type": "stream",
     "text": [
      "[  7  10  13  21  31  42  45  54  56  63  68  80  81  83  94  96 101 108\n",
      " 123 128 144 149 154 166 186 194 196]\n",
      "[3.972000e+00 8.154550e+03 1.409300e+01 3.540000e-01 7.384100e+01\n",
      " 6.961500e+01 9.455837e+03 2.359900e+01 8.154550e+03 3.971900e+01\n",
      " 9.869600e+01 1.876700e+01 8.764000e+01 7.416500e+01 5.843900e+01\n",
      " 1.920000e+01 3.057000e+01 8.600000e+01 1.489000e+01 2.712100e+01\n",
      " 8.898200e+01 1.327000e+00 4.711000e+00 7.978100e+01 9.395000e+00\n",
      " 5.436300e+01 2.497500e+01]\n"
     ]
    }
   ],
   "source": [
    "dato_M_8000 = (np.where((z_float >= 8000.) | (z_float < 100.)))[0]\n",
    "\n",
    "print (dato_M_8000)\n",
    "print (z_float[dato_M_8000])"
   ]
  },
  {
   "cell_type": "code",
   "execution_count": 25,
   "id": "b11b7da9",
   "metadata": {},
   "outputs": [
    {
     "name": "stdout",
     "output_type": "stream",
     "text": [
      "[9.558730e+02 1.489000e+01 3.619100e+02 5.889790e+02 2.020691e+03\n",
      " 1.744215e+03 2.712100e+01 1.073250e+02 4.516479e+03 1.932860e+02\n",
      " 2.509570e+02 1.052931e+03 3.974660e+02 7.107220e+02 8.770010e+02\n",
      " 1.119440e+02 5.031529e+03 5.695082e+03 5.855986e+03 1.238226e+03\n",
      " 8.340650e+02 3.840608e+03 8.898200e+01 6.875432e+03 3.755779e+03\n",
      " 2.650330e+03 1.829785e+03 1.327000e+00 7.792920e+02 5.722690e+02\n",
      " 2.707700e+02 1.012740e+02 4.711000e+00 4.120030e+02 2.836610e+02\n",
      " 6.256047e+03 1.222081e+03 4.228630e+02 7.040443e+03 6.192980e+02\n",
      " 2.156250e+02]\n"
     ]
    }
   ],
   "source": [
    "aa = np.linspace(0, 100, len(z_float))\n",
    "\n",
    "pos_int = (np.where((aa >= 60.) & (aa <= 80.)))[0]\n",
    "\n",
    "print (z_float[pos_int])"
   ]
  },
  {
   "cell_type": "code",
   "execution_count": 30,
   "id": "5d08a905",
   "metadata": {},
   "outputs": [
    {
     "name": "stdout",
     "output_type": "stream",
     "text": [
      "(array([122, 123, 124, 125, 126, 127, 128, 129, 130, 131, 132, 133, 134,\n",
      "       135, 136, 137, 138, 139, 140, 141, 142, 143, 144, 145, 146, 147,\n",
      "       148, 149, 150, 151, 152, 153, 154, 155, 156, 157, 158, 159, 160,\n",
      "       161, 162]),)\n"
     ]
    }
   ],
   "source": [
    "pos_int2 = (np.where((aa >= 60.) & (aa <= 80.)))\n",
    "\n",
    "print (pos_int2)"
   ]
  },
  {
   "cell_type": "markdown",
   "id": "3eefa973",
   "metadata": {},
   "source": [
    "## Usando pandas"
   ]
  },
  {
   "cell_type": "code",
   "execution_count": 34,
   "id": "16063d4d",
   "metadata": {},
   "outputs": [
    {
     "name": "stdout",
     "output_type": "stream",
     "text": [
      "                    Z      ppt\n",
      "fecha                         \n",
      "2012-01-31  10612.264   74.168\n",
      "2012-02-29      0.000    0.000\n",
      "2012-03-31   9007.665   47.752\n",
      "2012-04-30      0.000    0.000\n",
      "2012-05-31  30066.702  288.544\n",
      "2012-06-30  32719.715  284.480\n",
      "2012-07-31  10191.974  351.536\n",
      "2012-08-31  25434.489  146.304\n",
      "2012-09-30  35484.322  493.776\n",
      "2012-10-31  12159.114  425.704\n",
      "2012-11-30  13179.390  271.272\n",
      "2012-12-31  10955.749  195.072\n",
      "2013-01-31      0.000    0.000\n",
      "2013-02-28  25265.872  281.432\n",
      "2013-03-31  28296.877  447.040\n",
      "2013-04-30  55793.787  830.072\n",
      "2013-05-31  20083.040  334.264\n",
      "2013-06-30  13861.319  244.856\n",
      "2013-07-31   8228.935  137.160\n",
      "2013-08-31   8941.135  269.240\n"
     ]
    }
   ],
   "source": [
    "import pandas as pd\n",
    "\n",
    "m_data3 = pd.read_csv(path_data+name_data2, delimiter =',',\\\n",
    "                     index_col = 0)\n",
    "m_data3.index = pd.to_datetime(m_data3.index)\n",
    "m_data3.columns = ['Z', 'ppt']\n",
    "\n",
    "test = m_data3.resample('M', closed = 'left', label = 'right').sum()\n",
    "\n",
    "print (test)\n"
   ]
  },
  {
   "cell_type": "code",
   "execution_count": null,
   "id": "a3f5ebc5",
   "metadata": {},
   "outputs": [],
   "source": []
  }
 ],
 "metadata": {
  "kernelspec": {
   "display_name": "Python 3",
   "language": "python",
   "name": "python3"
  },
  "language_info": {
   "codemirror_mode": {
    "name": "ipython",
    "version": 3
   },
   "file_extension": ".py",
   "mimetype": "text/x-python",
   "name": "python",
   "nbconvert_exporter": "python",
   "pygments_lexer": "ipython3",
   "version": "3.8.8"
  },
  "latex_envs": {
   "LaTeX_envs_menu_present": true,
   "autoclose": false,
   "autocomplete": true,
   "bibliofile": "biblio.bib",
   "cite_by": "apalike",
   "current_citInitial": 1,
   "eqLabelWithNumbers": true,
   "eqNumInitial": 1,
   "hotkeys": {
    "equation": "Ctrl-E",
    "itemize": "Ctrl-I"
   },
   "labels_anchors": false,
   "latex_user_defs": false,
   "report_style_numbering": false,
   "user_envs_cfg": false
  },
  "toc": {
   "base_numbering": 1,
   "nav_menu": {},
   "number_sections": true,
   "sideBar": true,
   "skip_h1_title": false,
   "title_cell": "Table of Contents",
   "title_sidebar": "Contents",
   "toc_cell": false,
   "toc_position": {},
   "toc_section_display": true,
   "toc_window_display": true
  }
 },
 "nbformat": 4,
 "nbformat_minor": 5
}
