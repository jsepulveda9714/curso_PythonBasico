{
 "cells": [
  {
   "cell_type": "markdown",
   "metadata": {
    "id": "1utkF32ausnx"
   },
   "source": [
    "# Este es un primer acercamiento a python"
   ]
  },
  {
   "cell_type": "markdown",
   "metadata": {
    "id": "GUZu-2neUN6F"
   },
   "source": [
    "## Definición de paquetes"
   ]
  },
  {
   "cell_type": "code",
   "execution_count": null,
   "metadata": {
    "id": "ldwWSs-HvLw8"
   },
   "outputs": [],
   "source": [
    "#-*- coding: utf-8 -*-\n",
    "#!/usr/bin/env python\n",
    "# ------------------------------\n",
    "\n",
    "import numpy as np"
   ]
  },
  {
   "cell_type": "markdown",
   "metadata": {
    "id": "bT77qowjUT_R"
   },
   "source": [
    "## Definiendo tipos de variables"
   ]
  },
  {
   "cell_type": "markdown",
   "metadata": {
    "id": "ADykkh3EV1dk"
   },
   "source": [
    "### Variables alfanumericas"
   ]
  },
  {
   "cell_type": "code",
   "execution_count": 1,
   "metadata": {
    "colab": {
     "base_uri": "https://localhost:8080/"
    },
    "id": "UlQG-YTHva9H",
    "outputId": "9c85188e-e251-4cf7-a6be-0367ee9996e3"
   },
   "outputs": [
    {
     "name": "stdout",
     "output_type": "stream",
     "text": [
      "3.1416 el tipo de dato:  <class 'float'>\n",
      "pi_number el tipo de dato:  <class 'str'>\n"
     ]
    }
   ],
   "source": [
    "# Definiendo tipos de variables\n",
    "\n",
    "x = 3.1416\n",
    "str_x = 'pi_number'\n",
    "\n",
    "print (x, 'el tipo de dato: ', type(x))\n",
    "print (str_x, 'el tipo de dato: ',type(str_x))"
   ]
  },
  {
   "cell_type": "code",
   "execution_count": 2,
   "metadata": {
    "colab": {
     "base_uri": "https://localhost:8080/",
     "height": 183
    },
    "id": "gsCxAwjpR9YK",
    "outputId": "55e299d5-9bab-4728-d4c4-6d322355e01b"
   },
   "outputs": [
    {
     "ename": "TypeError",
     "evalue": "can only concatenate str (not \"float\") to str",
     "output_type": "error",
     "traceback": [
      "\u001b[0;31m---------------------------------------------------------------------------\u001b[0m",
      "\u001b[0;31mTypeError\u001b[0m                                 Traceback (most recent call last)",
      "\u001b[0;32m<ipython-input-2-1ab7a9f0b0e3>\u001b[0m in \u001b[0;36m<module>\u001b[0;34m\u001b[0m\n\u001b[1;32m      1\u001b[0m \u001b[0mstr_y\u001b[0m \u001b[0;34m=\u001b[0m \u001b[0;34m\"7.78\"\u001b[0m\u001b[0;34m\u001b[0m\u001b[0;34m\u001b[0m\u001b[0m\n\u001b[0;32m----> 2\u001b[0;31m \u001b[0mprint\u001b[0m \u001b[0;34m(\u001b[0m\u001b[0mstr_y\u001b[0m \u001b[0;34m+\u001b[0m \u001b[0;36m2.\u001b[0m\u001b[0;34m)\u001b[0m\u001b[0;34m\u001b[0m\u001b[0;34m\u001b[0m\u001b[0m\n\u001b[0m",
      "\u001b[0;31mTypeError\u001b[0m: can only concatenate str (not \"float\") to str"
     ]
    }
   ],
   "source": [
    "str_y = \"7.78\"\n",
    "print (str_y + 2.)"
   ]
  },
  {
   "cell_type": "code",
   "execution_count": 3,
   "metadata": {
    "colab": {
     "base_uri": "https://localhost:8080/"
    },
    "id": "I8st4UObS6Iz",
    "outputId": "cf2c250c-58c7-421d-bd13-1cb13643ad59"
   },
   "outputs": [
    {
     "name": "stdout",
     "output_type": "stream",
     "text": [
      "9.780000000000001\n"
     ]
    }
   ],
   "source": [
    "num_y = float(str_y)\n",
    "print (num_y + 2.)"
   ]
  },
  {
   "cell_type": "markdown",
   "metadata": {
    "id": "lk4Fu4Tugycy"
   },
   "source": [
    "### Operaciones con cadenas de caracteres"
   ]
  },
  {
   "cell_type": "code",
   "execution_count": 4,
   "metadata": {
    "colab": {
     "base_uri": "https://localhost:8080/"
    },
    "id": "gTxlnPSXgwE8",
    "outputId": "ad792291-a61c-4af4-8f9f-3363f7f32c63"
   },
   "outputs": [
    {
     "name": "stdout",
     "output_type": "stream",
     "text": [
      "Julián Sepúlveda Berrío\n"
     ]
    }
   ],
   "source": [
    "my_name1 = u\"Julián Sepúlveda Berrío\"\n",
    "my_name2 = \"*julian sepulveda berrio*\"\n",
    "\n",
    "print (my_name1)"
   ]
  },
  {
   "cell_type": "code",
   "execution_count": 7,
   "metadata": {
    "id": "lP1MyQRHFTis"
   },
   "outputs": [
    {
     "name": "stdout",
     "output_type": "stream",
     "text": [
      " julian sepulveda berrio \n",
      "julian sepulveda berrio\n",
      "['julian', 'sepulveda', 'berrio']\n"
     ]
    }
   ],
   "source": [
    "my_name_mod = my_name2.replace('*', ' ')\n",
    "print (my_name_mod)\n",
    "my_name_mod = my_name_mod.strip()\n",
    "print (my_name_mod)\n",
    "print ('La cantidad de letras e es: ', my_name_mod.count('e'))\n",
    "cut_myname = my_name_mod.split(' ')\n",
    "print (cut_myname)\n",
    "name = cut_name"
   ]
  },
  {
   "cell_type": "code",
   "execution_count": null,
   "metadata": {
    "colab": {
     "base_uri": "https://localhost:8080/"
    },
    "id": "tsn0XqNkOaI6",
    "outputId": "07deebaa-37f0-4426-ad92-0b3f3eda3cfc"
   },
   "outputs": [
    {
     "name": "stdout",
     "output_type": "stream",
     "text": [
      "6.0\n"
     ]
    }
   ],
   "source": [
    "tupla_1 = (1.3, 6.) # definicion de una tupla\n",
    "print (tupla_1[1])"
   ]
  },
  {
   "cell_type": "code",
   "execution_count": null,
   "metadata": {
    "colab": {
     "base_uri": "https://localhost:8080/",
     "height": 165
    },
    "id": "OYbysQkoQ_OY",
    "outputId": "57dfa074-3f94-44d3-8892-6710d5719f09"
   },
   "outputs": [
    {
     "ename": "TypeError",
     "evalue": "ignored",
     "output_type": "error",
     "traceback": [
      "\u001b[0;31m---------------------------------------------------------------------------\u001b[0m",
      "\u001b[0;31mTypeError\u001b[0m                                 Traceback (most recent call last)",
      "\u001b[0;32m<ipython-input-9-3b5881d2438c>\u001b[0m in \u001b[0;36m<module>\u001b[0;34m()\u001b[0m\n\u001b[0;32m----> 1\u001b[0;31m \u001b[0mtupla_1\u001b[0m\u001b[0;34m[\u001b[0m\u001b[0;36m1\u001b[0m\u001b[0;34m]\u001b[0m \u001b[0;34m=\u001b[0m \u001b[0;36m12.\u001b[0m\u001b[0;34m\u001b[0m\u001b[0;34m\u001b[0m\u001b[0m\n\u001b[0m",
      "\u001b[0;31mTypeError\u001b[0m: 'tuple' object does not support item assignment"
     ]
    }
   ],
   "source": [
    "tupla_1[1] = 12."
   ]
  },
  {
   "cell_type": "code",
   "execution_count": null,
   "metadata": {
    "colab": {
     "base_uri": "https://localhost:8080/",
     "height": 165
    },
    "id": "80ZospZARNNn",
    "outputId": "6cfd3af2-533a-4c04-e5e8-b44a0f9ebc82"
   },
   "outputs": [
    {
     "ename": "TypeError",
     "evalue": "ignored",
     "output_type": "error",
     "traceback": [
      "\u001b[0;31m---------------------------------------------------------------------------\u001b[0m",
      "\u001b[0;31mTypeError\u001b[0m                                 Traceback (most recent call last)",
      "\u001b[0;32m<ipython-input-10-868ba1d8ec9a>\u001b[0m in \u001b[0;36m<module>\u001b[0;34m()\u001b[0m\n\u001b[0;32m----> 1\u001b[0;31m \u001b[0mtupla_sum\u001b[0m \u001b[0;34m=\u001b[0m \u001b[0mtupla_1\u001b[0m \u001b[0;34m+\u001b[0m \u001b[0;36m2.\u001b[0m\u001b[0;34m\u001b[0m\u001b[0;34m\u001b[0m\u001b[0m\n\u001b[0m",
      "\u001b[0;31mTypeError\u001b[0m: can only concatenate tuple (not \"float\") to tuple"
     ]
    }
   ],
   "source": [
    "tupla_sum = tupla_1 + 2."
   ]
  }
 ],
 "metadata": {
  "colab": {
   "collapsed_sections": [],
   "name": "primera_clasePython.ipynb",
   "provenance": []
  },
  "kernelspec": {
   "display_name": "Python 3",
   "language": "python",
   "name": "python3"
  },
  "language_info": {
   "codemirror_mode": {
    "name": "ipython",
    "version": 3
   },
   "file_extension": ".py",
   "mimetype": "text/x-python",
   "name": "python",
   "nbconvert_exporter": "python",
   "pygments_lexer": "ipython3",
   "version": "3.8.8"
  }
 },
 "nbformat": 4,
 "nbformat_minor": 1
}
