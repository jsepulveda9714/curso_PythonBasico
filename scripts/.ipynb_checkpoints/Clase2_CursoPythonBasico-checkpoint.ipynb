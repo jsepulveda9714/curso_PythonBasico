{
 "cells": [
  {
   "cell_type": "markdown",
   "id": "9562abbd",
   "metadata": {},
   "source": [
    "# Outline clase Lunes 24 de mayo de 2021\n",
    "\n",
    "\\begin{itemize}\n",
    "    \\item Rápido repaso de la clase anterior.\n",
    "    \\item Continuación del tema: tipos de variables y algunos comandos útiles.\n",
    "    \\item Lectura de archivos de texto plano, el método a rústico\n",
    "    \\item Paquete numpy\n",
    "    \\item Formas más fáciles de leer archivos de texto plano.\n",
    "    \\item algunas operaciones con los datos leídos.\n",
    "\\end{itemize}"
   ]
  },
  {
   "cell_type": "markdown",
   "id": "8d4b99a8",
   "metadata": {},
   "source": [
    "# Definición de los paquetes necesarios"
   ]
  },
  {
   "cell_type": "code",
   "execution_count": 1,
   "id": "55bc76e1",
   "metadata": {},
   "outputs": [],
   "source": [
    "#-*- coding: utf-8 -*-\n",
    "#!/usr/bin/env python\n",
    "# ------------------------------\n",
    "\n",
    "import numpy as np"
   ]
  },
  {
   "cell_type": "markdown",
   "id": "022018bf",
   "metadata": {},
   "source": [
    "# Tipos de variables\n",
    "## Variables tipo set"
   ]
  },
  {
   "cell_type": "code",
   "execution_count": 2,
   "id": "c364066e",
   "metadata": {},
   "outputs": [
    {
     "name": "stdout",
     "output_type": "stream",
     "text": [
      "{1, 5, 7}\n",
      "{0, 1, 2, 3, 4, 5, 6, 7, 8, 9}\n",
      "set()\n",
      "{0, 1, 2, 3, 4, 5, 6, 7, 8, 9}\n",
      "{0, 1, 2, 3, 4, 5, 6, 7, 8, 9, 13}\n",
      "{0, 1, 2, 4, 5, 6, 8, 9, 13, 18}\n",
      "[0, 1, 2, 4, 5, 6, 8, 9, 13, 18]\n"
     ]
    }
   ],
   "source": [
    "a_set = {1,5,7}\n",
    "\n",
    "b_list = range(10)\n",
    "b_set = set(b_list)\n",
    "c_set = set([])\n",
    "print (a_set)\n",
    "print (b_set)\n",
    "print (c_set)\n",
    "\n",
    "c_set.update(a_set)\n",
    "c_set.update(b_set)\n",
    "print (c_set)\n",
    "c_set.add(13)\n",
    "print (c_set)\n",
    "c_set.remove(7)\n",
    "c_set.remove(3)\n",
    "# Lo siguiente no es posible hacer\n",
    "#print (c_set[7])\n",
    "#c_set[7] = 18 \n",
    "# Se quiere adicionar un elemento se usa add o varios elementos update\n",
    "c_set.add(18)\n",
    "print (c_set)\n",
    "# Un set puede volverse lista y una lista set\n",
    "c_list = list(c_set)\n",
    "print (c_list)\n",
    "a_set.update({11,15,16})"
   ]
  },
  {
   "cell_type": "code",
   "execution_count": 3,
   "id": "e4fbf9a9",
   "metadata": {},
   "outputs": [
    {
     "name": "stdout",
     "output_type": "stream",
     "text": [
      "El conjunto a es:  {16, 1, 5, 7, 11, 15}\n",
      "El conjunto c es:  {0, 1, 2, 4, 5, 6, 8, 9, 13, 18}\n",
      "La unión de los conjuntos\n",
      "{0, 1, 2, 4, 5, 6, 7, 8, 9, 11, 13, 15, 16, 18}\n",
      "{0, 1, 2, 4, 5, 6, 7, 8, 9, 11, 13, 15, 16, 18}\n",
      "La Intercepción de los conjuntos\n",
      "{1, 5}\n",
      "{1, 5}\n",
      "La differencia de los conjuntos\n",
      "{16, 11, 15, 7}\n",
      "{16, 11, 15, 7}\n",
      "La diferencia simétrica de los conjuntos\n",
      "{16, 11, 15, 7}\n",
      "{0, 2, 4, 6, 7, 8, 9, 11, 13, 15, 16, 18}\n"
     ]
    }
   ],
   "source": [
    "print ('El conjunto a es: ', a_set)\n",
    "print ('El conjunto c es: ', c_set)\n",
    "# union entre variables tipo set\n",
    "union_ac1 = a_set | c_set\n",
    "union_ac2 = a_set.union(c_set)\n",
    "print (\"La unión de los conjuntos\")\n",
    "print (union_ac1)\n",
    "print (union_ac2)\n",
    "# Intercepción entre variables tipo set\n",
    "inter_ac1 = a_set & c_set\n",
    "inter_ac2 = a_set.intersection(c_set)\n",
    "print (\"La Intercepción de los conjuntos\")\n",
    "print (inter_ac1)\n",
    "print (inter_ac2)\n",
    "# operador diferencia entre variables tipo set\n",
    "diff_ac1 = a_set - c_set\n",
    "diff_ac2 = a_set.difference(c_set)\n",
    "print (\"La differencia de los conjuntos\")\n",
    "print (diff_ac1)\n",
    "print (diff_ac2)\n",
    "# Operador diferencia simetrica\n",
    "symdiff_ac1 = a_set - c_set\n",
    "symdiff_ac2 = a_set.symmetric_difference(c_set)\n",
    "print (\"La diferencia simétrica de los conjuntos\")\n",
    "print (symdiff_ac1)\n",
    "print (symdiff_ac2)\n",
    "\n"
   ]
  },
  {
   "cell_type": "markdown",
   "id": "74b4a797",
   "metadata": {},
   "source": [
    "## Diccionarios\n",
    "Los diccionarios es uno de los tipos más importantes de varibles que podemos encontrar en python, ya que permite almacenar diferentes tipos de variables y para luego acceder usando una palabra clave"
   ]
  },
  {
   "cell_type": "code",
   "execution_count": 4,
   "id": "2415eab3",
   "metadata": {},
   "outputs": [
    {
     "name": "stdout",
     "output_type": "stream",
     "text": [
      "{'var_a': 7.0, 'var_b': 12.0}\n",
      "dict_keys(['var_a', 'var_b'])\n",
      "dict_values([7.0, 12.0])\n",
      "7.0\n"
     ]
    }
   ],
   "source": [
    "# Creación simple de un diccionario\n",
    "dict_a = {'var_a': 7., 'var_b': 12.}\n",
    "print (dict_a)\n",
    "print (dict_a.keys())\n",
    "print (dict_a.values())\n",
    "print (dict_a['var_a']) # Para acceder a la variable con la palabra clave"
   ]
  },
  {
   "cell_type": "code",
   "execution_count": 5,
   "id": "2e6981b2",
   "metadata": {},
   "outputs": [
    {
     "name": "stdout",
     "output_type": "stream",
     "text": [
      "var_a 7.0 <class 'float'>\n",
      "var_b 12.0 <class 'float'>\n"
     ]
    }
   ],
   "source": [
    "# Si queremos ver todo los que hay en un diccionario\n",
    "for key_i, elem_i in dict_a.items():\n",
    "    print (key_i, elem_i, type(elem_i))"
   ]
  },
  {
   "cell_type": "markdown",
   "id": "da53ba7e",
   "metadata": {},
   "source": [
    "Los diccionarios pueden contener cualquier cosa: reales, imaginarios, flotantes, string, listas, tuplas, vectores, matrices, otros diccionarios (bummm)"
   ]
  },
  {
   "cell_type": "code",
   "execution_count": 6,
   "id": "b96a2378",
   "metadata": {},
   "outputs": [
    {
     "name": "stdout",
     "output_type": "stream",
     "text": [
      "{'num': 89.0}\n",
      "{'num': 89.0, 'str': 'Julián'}\n",
      "{'num': 89.0, 'str': 'Julián', 'list': range(0, 5)}\n",
      "{'num': 89.0, 'str': 'Julián', 'list': range(0, 5), 'tuple': (6.0, 7.0)}\n",
      "{'num': 89.0, 'str': 'Julián', 'list': range(0, 5), 'tuple': (6.0, 7.0), 'other_dict': {'other_str': 'el_juli', 'other_num': 14.0}}\n"
     ]
    }
   ],
   "source": [
    "keys_arr = ['num','str','list', 'tuple', 'other_dict']\n",
    "a_num   = 89.\n",
    "a_str   = 'Julián'\n",
    "a_list  = range(5)\n",
    "a_tuple = (6., 7.)\n",
    "a_dict  = {'other_str': 'el_juli', 'other_num':14.}\n",
    "\n",
    "dict_b = {}\n",
    "for ii in keys_arr:\n",
    "    if ii == 'num': dict_b.update({ii:a_num})\n",
    "    if ii == 'str': dict_b.update({ii:a_str})\n",
    "    if ii == 'list': dict_b.update({ii:a_list})\n",
    "    if ii == 'tuple': dict_b.update({ii:a_tuple})\n",
    "    if ii == 'other_dict': dict_b.update({ii:a_dict})\n",
    "    print (dict_b)"
   ]
  },
  {
   "cell_type": "markdown",
   "id": "0cc0123a",
   "metadata": {},
   "source": [
    "# Funciones en python"
   ]
  },
  {
   "cell_type": "code",
   "execution_count": 7,
   "id": "1f3d9d2b",
   "metadata": {},
   "outputs": [],
   "source": [
    "def operaciones_algebraicas(a,b):\n",
    "    suma = a + b\n",
    "    resta = a - b\n",
    "    multiplicacion = a*b\n",
    "    print ('La suma entre a y b es: ', suma)\n",
    "    print ('La resta entre a y b es: ', resta)\n",
    "    print ('La multiplicación entre a y b es: ', multiplicacion)\n",
    "    return suma, resta, multiplicacion \n",
    "    "
   ]
  },
  {
   "cell_type": "code",
   "execution_count": 8,
   "id": "7a37e620",
   "metadata": {},
   "outputs": [
    {
     "name": "stdout",
     "output_type": "stream",
     "text": [
      "La suma entre a y b es:  170.0\n",
      "La resta entre a y b es:  144.0\n",
      "La multiplicación entre a y b es:  2041.0\n"
     ]
    }
   ],
   "source": [
    "a_1 = 157.\n",
    "b_1 =13.\n",
    "\n",
    "sum_r, resta_r, mult_r = operaciones_algebraicas(a_1,b_1)"
   ]
  },
  {
   "cell_type": "markdown",
   "id": "b49fb7ba",
   "metadata": {},
   "source": [
    "Es posible crear funciones con argumentos adicionales con argumentos adicionales."
   ]
  },
  {
   "cell_type": "code",
   "execution_count": 9,
   "id": "eea73857",
   "metadata": {},
   "outputs": [],
   "source": [
    "def operaciones_algebraicas2(a,b,*args):\n",
    "    suma = a + b\n",
    "    resta = a - b\n",
    "    multiplicacion = a*b\n",
    "    for i in args:\n",
    "        print ('Estoy en el for porque tengo argumentos')\n",
    "        suma = suma + i\n",
    "    print ('La suma entre a y b es: ', suma)\n",
    "    print ('La resta entre a y b es: ', resta)\n",
    "    print ('La multiplicación entre a y b es: ', multiplicacion)\n",
    "    return suma"
   ]
  },
  {
   "cell_type": "code",
   "execution_count": 10,
   "id": "49a0311a",
   "metadata": {},
   "outputs": [
    {
     "name": "stdout",
     "output_type": "stream",
     "text": [
      "La suma entre a y b es:  170.0\n",
      "La resta entre a y b es:  144.0\n",
      "La multiplicación entre a y b es:  2041.0\n"
     ]
    }
   ],
   "source": [
    "test1_1 = operaciones_algebraicas2(a_1,b_1)"
   ]
  },
  {
   "cell_type": "code",
   "execution_count": 11,
   "id": "24a9e35b",
   "metadata": {},
   "outputs": [
    {
     "name": "stdout",
     "output_type": "stream",
     "text": [
      "Estoy en el for porque tengo argumentos\n",
      "La suma entre a y b es:  190.0\n",
      "La resta entre a y b es:  144.0\n",
      "La multiplicación entre a y b es:  2041.0\n"
     ]
    }
   ],
   "source": [
    "test1_1 = operaciones_algebraicas2(a_1,b_1, 20.)"
   ]
  },
  {
   "cell_type": "code",
   "execution_count": 12,
   "id": "bc450e9e",
   "metadata": {},
   "outputs": [],
   "source": [
    "def operaciones_algebraicas3(a,b,**kwargs):\n",
    "    suma = a + b\n",
    "    resta = a - b\n",
    "    multiplicacion = a*b\n",
    "    n_keys = kwargs.keys()\n",
    "    print (n_keys)\n",
    "    if n_keys:\n",
    "        for jj in n_keys:\n",
    "            try:\n",
    "                suma = suma + kwargs[jj]\n",
    "            except:\n",
    "                print ('El kwarg es un string: '+kwargs[jj])\n",
    "    return suma"
   ]
  },
  {
   "cell_type": "code",
   "execution_count": null,
   "id": "311d8b12",
   "metadata": {},
   "outputs": [],
   "source": []
  }
 ],
 "metadata": {
  "kernelspec": {
   "display_name": "Python 3",
   "language": "python",
   "name": "python3"
  },
  "language_info": {
   "codemirror_mode": {
    "name": "ipython",
    "version": 3
   },
   "file_extension": ".py",
   "mimetype": "text/x-python",
   "name": "python",
   "nbconvert_exporter": "python",
   "pygments_lexer": "ipython3",
   "version": "3.8.8"
  },
  "latex_envs": {
   "LaTeX_envs_menu_present": true,
   "autoclose": false,
   "autocomplete": true,
   "bibliofile": "biblio.bib",
   "cite_by": "apalike",
   "current_citInitial": 1,
   "eqLabelWithNumbers": true,
   "eqNumInitial": 1,
   "hotkeys": {
    "equation": "Ctrl-E",
    "itemize": "Ctrl-I"
   },
   "labels_anchors": false,
   "latex_user_defs": false,
   "report_style_numbering": false,
   "user_envs_cfg": false
  },
  "toc": {
   "base_numbering": 1,
   "nav_menu": {},
   "number_sections": true,
   "sideBar": true,
   "skip_h1_title": false,
   "title_cell": "Table of Contents",
   "title_sidebar": "Contents",
   "toc_cell": false,
   "toc_position": {},
   "toc_section_display": true,
   "toc_window_display": true
  }
 },
 "nbformat": 4,
 "nbformat_minor": 5
}
