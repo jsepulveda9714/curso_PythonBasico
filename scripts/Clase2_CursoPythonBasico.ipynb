{
 "cells": [
  {
   "cell_type": "markdown",
   "id": "9562abbd",
   "metadata": {},
   "source": [
    "# Outline clase Lunes 24 de mayo de 2021\n",
    "\n",
    "\\begin{itemize}\n",
    "    \\item Rápido repaso de la clase anterior.\n",
    "    \\item Continuación del tema: tipos de variables y algunos comandos útiles.\n",
    "    \\item Lectura de archivos de texto plano, el método a rústico\n",
    "    \\item Paquete numpy\n",
    "    \\item Formas más fáciles de leer archivos de texto plano.\n",
    "    \\item algunas operaciones con los datos leídos.\n",
    "\\end{itemize}"
   ]
  },
  {
   "cell_type": "markdown",
   "id": "8d4b99a8",
   "metadata": {},
   "source": [
    "# Definición de los paquetes necesarios"
   ]
  },
  {
   "cell_type": "code",
   "execution_count": 1,
   "id": "55bc76e1",
   "metadata": {},
   "outputs": [],
   "source": [
    "#-*- coding: utf-8 -*-\n",
    "#!/usr/bin/env python\n",
    "# ------------------------------\n",
    "\n",
    "import numpy as np"
   ]
  },
  {
   "cell_type": "markdown",
   "id": "022018bf",
   "metadata": {},
   "source": [
    "# Tipos de variables\n",
    "## Variables tipo set"
   ]
  },
  {
   "cell_type": "code",
   "execution_count": 2,
   "id": "fda2bf5e",
   "metadata": {},
   "outputs": [
    {
     "name": "stdout",
     "output_type": "stream",
     "text": [
      "{1, 5, 7}\n",
      "{0, 1, 2, 3, 4, 5, 6, 7, 8, 9}\n",
      "set()\n",
      "{0, 1, 2, 3, 4, 5, 6, 7, 8, 9}\n",
      "{0, 1, 2, 3, 4, 5, 6, 7, 8, 9, 13}\n",
      "{0, 1, 2, 4, 5, 6, 8, 9, 13, 18}\n",
      "[0, 1, 2, 4, 5, 6, 8, 9, 13, 18]\n"
     ]
    }
   ],
   "source": [
    "a_set = {1,5,7}\n",
    "\n",
    "b_list = range(10)\n",
    "b_set = set(b_list)\n",
    "c_set = set([])\n",
    "print (a_set)\n",
    "print (b_set)\n",
    "print (c_set)\n",
    "\n",
    "c_set.update(a_set)\n",
    "c_set.update(b_set)\n",
    "print (c_set)\n",
    "c_set.add(13)\n",
    "print (c_set)\n",
    "c_set.remove(7)\n",
    "c_set.remove(3)\n",
    "# Lo siguiente no es posible hacer\n",
    "#print (c_set[7])\n",
    "#c_set[7] = 18 \n",
    "# Se quiere adicionar un elemento se usa add o varios elementos update\n",
    "c_set.add(18)\n",
    "print (c_set)\n",
    "# Un set puede volverse lista y una lista set\n",
    "c_list = list(c_set)\n",
    "print (c_list)\n",
    "a_set.update({11,15,16})"
   ]
  },
  {
   "cell_type": "code",
   "execution_count": 3,
   "id": "3690fe22",
   "metadata": {},
   "outputs": [
    {
     "name": "stdout",
     "output_type": "stream",
     "text": [
      "El conjunto a es:  {16, 1, 5, 7, 11, 15}\n",
      "El conjunto c es:  {0, 1, 2, 4, 5, 6, 8, 9, 13, 18}\n",
      "La unión de los conjuntos\n",
      "{0, 1, 2, 4, 5, 6, 7, 8, 9, 11, 13, 15, 16, 18}\n",
      "{0, 1, 2, 4, 5, 6, 7, 8, 9, 11, 13, 15, 16, 18}\n",
      "La Intercepción de los conjuntos\n",
      "{1, 5}\n",
      "{1, 5}\n",
      "La differencia de los conjuntos\n",
      "{16, 11, 15, 7}\n",
      "{16, 11, 15, 7}\n",
      "La diferencia simétrica de los conjuntos\n",
      "{16, 11, 15, 7}\n",
      "{0, 2, 4, 6, 7, 8, 9, 11, 13, 15, 16, 18}\n"
     ]
    }
   ],
   "source": [
    "print ('El conjunto a es: ', a_set)\n",
    "print ('El conjunto c es: ', c_set)\n",
    "# union entre variables tipo set\n",
    "union_ac1 = a_set | c_set\n",
    "union_ac2 = a_set.union(c_set)\n",
    "print (\"La unión de los conjuntos\")\n",
    "print (union_ac1)\n",
    "print (union_ac2)\n",
    "# Intercepción entre variables tipo set\n",
    "inter_ac1 = a_set & c_set\n",
    "inter_ac2 = a_set.intersection(c_set)\n",
    "print (\"La Intercepción de los conjuntos\")\n",
    "print (inter_ac1)\n",
    "print (inter_ac2)\n",
    "# operador diferencia entre variables tipo set\n",
    "diff_ac1 = a_set - c_set\n",
    "diff_ac2 = a_set.difference(c_set)\n",
    "print (\"La differencia de los conjuntos\")\n",
    "print (diff_ac1)\n",
    "print (diff_ac2)\n",
    "# Operador diferencia simetrica\n",
    "symdiff_ac1 = a_set - c_set\n",
    "symdiff_ac2 = a_set.symmetric_difference(c_set)\n",
    "print (\"La diferencia simétrica de los conjuntos\")\n",
    "print (symdiff_ac1)\n",
    "print (symdiff_ac2)\n",
    "\n"
   ]
  },
  {
   "cell_type": "markdown",
   "id": "bf0ad571",
   "metadata": {},
   "source": [
    "## Diccionarios\n",
    "Los diccionarios es uno de los tipos más importantes de varibles que podemos encontrar en python, ya que permite almacenar diferentes tipos de variables y para luego acceder usando una palabra clave"
   ]
  },
  {
   "cell_type": "code",
   "execution_count": 4,
   "id": "b5d7435e",
   "metadata": {},
   "outputs": [
    {
     "name": "stdout",
     "output_type": "stream",
     "text": [
      "{'var_a': 7.0, 'var_b': 12.0}\n",
      "dict_keys(['var_a', 'var_b'])\n",
      "dict_values([7.0, 12.0])\n",
      "7.0\n"
     ]
    }
   ],
   "source": [
    "# Creación simple de un diccionario\n",
    "dict_a = {'var_a': 7., 'var_b': 12.}\n",
    "print (dict_a)\n",
    "print (dict_a.keys())\n",
    "print (dict_a.values())\n",
    "print (dict_a['var_a']) # Para acceder a la variable con la palabra clave"
   ]
  },
  {
   "cell_type": "code",
   "execution_count": 5,
   "id": "4fb53347",
   "metadata": {},
   "outputs": [
    {
     "name": "stdout",
     "output_type": "stream",
     "text": [
      "var_a 7.0 <class 'float'>\n",
      "var_b 12.0 <class 'float'>\n"
     ]
    }
   ],
   "source": [
    "# Si queremos ver todo los que hay en un diccionario\n",
    "for key_i, elem_i in dict_a.items():\n",
    "    print (key_i, elem_i, type(elem_i))"
   ]
  },
  {
   "cell_type": "markdown",
   "id": "5fd2c701",
   "metadata": {},
   "source": [
    "Los diccionarios pueden contener cualquier cosa: reales, imaginarios, flotantes, string, listas, tuplas, vectores, matrices, otros diccionarios (bummm)"
   ]
  },
  {
   "cell_type": "code",
   "execution_count": 6,
   "id": "55a96286",
   "metadata": {},
   "outputs": [
    {
     "name": "stdout",
     "output_type": "stream",
     "text": [
      "{'num': 89.0}\n",
      "{'num': 89.0, 'str': 'Julián'}\n",
      "{'num': 89.0, 'str': 'Julián', 'list': range(0, 5)}\n",
      "{'num': 89.0, 'str': 'Julián', 'list': range(0, 5), 'tuple': (6.0, 7.0)}\n",
      "{'num': 89.0, 'str': 'Julián', 'list': range(0, 5), 'tuple': (6.0, 7.0), 'other_dict': {'other_str': 'el_juli', 'other_num': 14.0}}\n"
     ]
    }
   ],
   "source": [
    "keys_arr = ['num','str','list', 'tuple', 'other_dict']\n",
    "a_num   = 89.\n",
    "a_str   = 'Julián'\n",
    "a_list  = range(5)\n",
    "a_tuple = (6., 7.)\n",
    "a_dict  = {'other_str': 'el_juli', 'other_num':14.}\n",
    "\n",
    "dict_b = {}\n",
    "for ii in keys_arr:\n",
    "    if ii == 'num': dict_b.update({ii:a_num})\n",
    "    if ii == 'str': dict_b.update({ii:a_str})\n",
    "    if ii == 'list': dict_b.update({ii:a_list})\n",
    "    if ii == 'tuple': dict_b.update({ii:a_tuple})\n",
    "    if ii == 'other_dict': dict_b.update({ii:a_dict})\n",
    "    print (dict_b)"
   ]
  },
  {
   "cell_type": "markdown",
   "id": "8c3917a8",
   "metadata": {},
   "source": [
    "# Funciones en python"
   ]
  },
  {
   "cell_type": "code",
   "execution_count": 7,
   "id": "c5b34ddf",
   "metadata": {},
   "outputs": [],
   "source": [
    "def operaciones_algebraicas(a,b):\n",
    "    suma = a + b\n",
    "    resta = a - b\n",
    "    multiplicacion = a*b\n",
    "    print ('La suma entre a y b es: ', suma)\n",
    "    print ('La resta entre a y b es: ', resta)\n",
    "    print ('La multiplicación entre a y b es: ', multiplicacion)\n",
    "    return suma, resta, multiplicacion \n",
    "    "
   ]
  },
  {
   "cell_type": "code",
   "execution_count": 8,
   "id": "388367f4",
   "metadata": {},
   "outputs": [
    {
     "name": "stdout",
     "output_type": "stream",
     "text": [
      "La suma entre a y b es:  170.0\n",
      "La resta entre a y b es:  144.0\n",
      "La multiplicación entre a y b es:  2041.0\n"
     ]
    }
   ],
   "source": [
    "a_1 = 157.\n",
    "b_1 =13.\n",
    "\n",
    "sum_r, resta_r, mult_r = operaciones_algebraicas(a_1,b_1)"
   ]
  },
  {
   "cell_type": "markdown",
   "id": "32ee197a",
   "metadata": {},
   "source": [
    "Es posible crear funciones con argumentos adicionales con argumentos adicionales."
   ]
  },
  {
   "cell_type": "code",
   "execution_count": 9,
   "id": "61679832",
   "metadata": {},
   "outputs": [],
   "source": [
    "def operaciones_algebraicas2(a,b,*args):\n",
    "    suma = a + b\n",
    "    resta = a - b\n",
    "    multiplicacion = a*b\n",
    "    for i in args:\n",
    "        print ('Estoy en el for porque tengo argumentos')\n",
    "        suma = suma + i\n",
    "    print ('La suma entre a y b es: ', suma)\n",
    "    print ('La resta entre a y b es: ', resta)\n",
    "    print ('La multiplicación entre a y b es: ', multiplicacion)\n",
    "    return suma"
   ]
  },
  {
   "cell_type": "code",
   "execution_count": 10,
   "id": "7f8b904f",
   "metadata": {},
   "outputs": [
    {
     "name": "stdout",
     "output_type": "stream",
     "text": [
      "La suma entre a y b es:  170.0\n",
      "La resta entre a y b es:  144.0\n",
      "La multiplicación entre a y b es:  2041.0\n"
     ]
    }
   ],
   "source": [
    "test1_1 = operaciones_algebraicas2(a_1,b_1)"
   ]
  },
  {
   "cell_type": "code",
   "execution_count": 11,
   "id": "ea6b33a2",
   "metadata": {},
   "outputs": [
    {
     "name": "stdout",
     "output_type": "stream",
     "text": [
      "Estoy en el for porque tengo argumentos\n",
      "La suma entre a y b es:  190.0\n",
      "La resta entre a y b es:  144.0\n",
      "La multiplicación entre a y b es:  2041.0\n"
     ]
    }
   ],
   "source": [
    "test1_1 = operaciones_algebraicas2(a_1,b_1, 20.)"
   ]
  },
  {
   "cell_type": "code",
   "execution_count": 14,
   "id": "211232d5",
   "metadata": {},
   "outputs": [],
   "source": [
    "def operaciones_algebraicas3(a,b,**kwargs):\n",
    "    suma = a + b\n",
    "    resta = a - b\n",
    "    multiplicacion = a*b\n",
    "    n_keys = kwargs.keys()\n",
    "    print (n_keys)\n",
    "    if n_keys:\n",
    "        for jj in n_keys:\n",
    "            try:\n",
    "                suma = suma + kwargs[jj]\n",
    "            except:\n",
    "                print ('El kwarg es un string: '+kwargs[jj])\n",
    "    print ('La suma entre a y b es: ', suma)\n",
    "    print ('La resta entre a y b es: ', resta)\n",
    "    print ('La multiplicación entre a y b es: ', multiplicacion)\n",
    "    return suma"
   ]
  },
  {
   "cell_type": "code",
   "execution_count": 15,
   "id": "b9049175",
   "metadata": {},
   "outputs": [
    {
     "name": "stdout",
     "output_type": "stream",
     "text": [
      "dict_keys([])\n",
      "La suma entre a y b es:  170.0\n",
      "La resta entre a y b es:  144.0\n",
      "La multiplicación entre a y b es:  2041.0\n"
     ]
    }
   ],
   "source": [
    "test2_1 = operaciones_algebraicas3(a_1,b_1)"
   ]
  },
  {
   "cell_type": "code",
   "execution_count": 18,
   "id": "ea24b108",
   "metadata": {},
   "outputs": [
    {
     "name": "stdout",
     "output_type": "stream",
     "text": [
      "dict_keys(['hey', 'hey2'])\n",
      "El kwarg es un string: julian\n",
      "La suma entre a y b es:  177.0\n",
      "La resta entre a y b es:  144.0\n",
      "La multiplicación entre a y b es:  2041.0\n"
     ]
    }
   ],
   "source": [
    "test2_2 = operaciones_algebraicas3(a_1, b_1, hey = 'julian', hey2 = 7.)"
   ]
  },
  {
   "cell_type": "markdown",
   "id": "ba9b9ec1",
   "metadata": {},
   "source": [
    "# Ejercicio en clase\n",
    "\n",
    "Creación de una función que sume los elementos de dos listas de igual cantidad de elesmentos. Explicar la función map y lambda .... Ñapa for en una linea"
   ]
  },
  {
   "cell_type": "markdown",
   "id": "39c33f16",
   "metadata": {},
   "source": [
    "# Lectura de archivos de texto plano- Método manual"
   ]
  },
  {
   "cell_type": "markdown",
   "id": "da0a9d9c",
   "metadata": {},
   "source": [
    "## Lectura de datos de texto plano de forma manual\n",
    "Para esto debe abrirse el archivo y recorrer linea a linea leyendolo como una cadena de caracteres.\n",
    "Tip: Es importante el comando read_lines()"
   ]
  },
  {
   "cell_type": "code",
   "execution_count": 25,
   "id": "f054513c",
   "metadata": {},
   "outputs": [
    {
     "name": "stdout",
     "output_type": "stream",
     "text": [
      "['Datos1' 'Datos2' 'Datos3' ... '10.251' '0.695' '15.759']\n",
      "(7014,)\n",
      "501\n",
      "14\n"
     ]
    }
   ],
   "source": [
    "path_data = '/Users/jsepulveda/Documents/asignaturas/curso_PythonBasico/datos/'\n",
    "name_data = 'set_head.csv'\n",
    "\n",
    "N_head = 4\n",
    "delimitador = ','\n",
    "file = open(path_data+name_data, 'r')\n",
    "#Lectura de encabezados\n",
    "if N_head > 0:\n",
    "        header = np.array([])\n",
    "        for i in range(N_head):\n",
    "                elemento = file.readline()\n",
    "                header = np.append(header, elemento)\n",
    "else:\n",
    "        header = np.array(['El archivo no posee encabezado'])\n",
    "        \n",
    "datos =np.array([])\n",
    "N_rows = 0 \n",
    "for line2 in file.readlines():\n",
    "        aux_line = line2.replace('\\n', ' ').strip().split(delimitador)\n",
    "        N_rows += 1\n",
    "        N_cols = len(aux_line)\n",
    "        datos  = np.append(datos, aux_line) \n",
    "\n",
    "print (datos)\n",
    "print (np.shape(datos))\n",
    "print (N_rows)\n",
    "print (N_cols)\n",
    "m_datos = np.reshape(datos, (N_rows, N_cols))\n",
    "file.close()"
   ]
  },
  {
   "cell_type": "markdown",
   "id": "03525390",
   "metadata": {},
   "source": [
    "## Paso a paso en el manejo de strings y lectura linea a linea."
   ]
  },
  {
   "cell_type": "code",
   "execution_count": 26,
   "id": "14b148be",
   "metadata": {},
   "outputs": [
    {
     "data": {
      "text/plain": [
       "array(['Datos para hacer el taller\\n',\n",
       "       'Estos  datos son sumamente importantes para hacer algo\\n',\n",
       "       'Scale = ,50.48\\n', 'Offset = ,250.3\\n'], dtype='<U55')"
      ]
     },
     "execution_count": 26,
     "metadata": {},
     "output_type": "execute_result"
    }
   ],
   "source": [
    "path_data = '/Users/jsepulveda/Documents/asignaturas/curso_PythonBasico/datos/'\n",
    "name_data = 'set_head.csv'\n",
    "\n",
    "N_head = 4\n",
    "delimitador = ','\n",
    "file = open(path_data+name_data, 'r')\n",
    "#Lectura de encabezados\n",
    "if N_head > 0:\n",
    "        header = np.array([])\n",
    "        for i in range(N_head):\n",
    "                elemento = file.readline()\n",
    "                header = np.append(header, elemento)\n",
    "file.close()\n",
    "                \n",
    "header"
   ]
  },
  {
   "cell_type": "code",
   "execution_count": 27,
   "id": "c3195087",
   "metadata": {},
   "outputs": [
    {
     "name": "stdout",
     "output_type": "stream",
     "text": [
      "Scale\n",
      "50.48\n"
     ]
    }
   ],
   "source": [
    "scale_key = ((header[2].split(','))[0].replace('=','')).strip()\n",
    "scale_val = float((((header[2].split(','))[1].replace('\\n', '')).strip()))\n",
    "offset = header[3]\n",
    "print (scale_key)\n",
    "print (scale_val)"
   ]
  },
  {
   "cell_type": "markdown",
   "id": "ef16c522",
   "metadata": {},
   "source": [
    "## Usando las librerias de numpy"
   ]
  },
  {
   "cell_type": "code",
   "execution_count": 32,
   "id": "fb6542bf",
   "metadata": {},
   "outputs": [],
   "source": [
    "import datetime as dt\n",
    "\n",
    "name_data2 = 'datos_lectura.csv'\n",
    "m_data2 = np.genfromtxt(path_data+name_data2,\\\n",
    "                        delimiter = ',', skip_header = 1,\\\n",
    "                        dtype = str)\n",
    "\n",
    "str_fecha  = m_data2[:,0]\n",
    "str_Z      = m_data2[:,1]\n",
    "str_intppt = m_data2[:,2]\n",
    "\n",
    "# ponemos los datos en un formato que podamos operar\n",
    "dt_fecha = list(map(lambda x:\\\n",
    "                    dt.datetime.strptime(x,'%Y/%m/%d %H:%M'),\\\n",
    "                    str_fecha))\n",
    "#print (dt_fecha)\n",
    "z_float  =  str_Z.astype(float)\n",
    "int_float=  str_intppt.astype(float)"
   ]
  },
  {
   "cell_type": "markdown",
   "id": "3fac3986",
   "metadata": {},
   "source": [
    "## Usando pandas"
   ]
  },
  {
   "cell_type": "code",
   "execution_count": 34,
   "id": "5479d5f4",
   "metadata": {},
   "outputs": [
    {
     "name": "stdout",
     "output_type": "stream",
     "text": [
      "                    Z      ppt\n",
      "fecha                         \n",
      "2012-01-31  10612.264   74.168\n",
      "2012-02-29      0.000    0.000\n",
      "2012-03-31   9007.665   47.752\n",
      "2012-04-30      0.000    0.000\n",
      "2012-05-31  30066.702  288.544\n",
      "2012-06-30  32719.715  284.480\n",
      "2012-07-31  10191.974  351.536\n",
      "2012-08-31  25434.489  146.304\n",
      "2012-09-30  35484.322  493.776\n",
      "2012-10-31  12159.114  425.704\n",
      "2012-11-30  13179.390  271.272\n",
      "2012-12-31  10955.749  195.072\n",
      "2013-01-31      0.000    0.000\n",
      "2013-02-28  25265.872  281.432\n",
      "2013-03-31  28296.877  447.040\n",
      "2013-04-30  55793.787  830.072\n",
      "2013-05-31  20083.040  334.264\n",
      "2013-06-30  13861.319  244.856\n",
      "2013-07-31   8228.935  137.160\n",
      "2013-08-31   8941.135  269.240\n"
     ]
    }
   ],
   "source": [
    "import pandas as pd\n",
    "\n",
    "m_data3 = pd.read_csv(path_data+name_data2, delimiter =',',\\\n",
    "                     index_col = 0)\n",
    "m_data3.index = pd.to_datetime(m_data3.index)\n",
    "m_data3.columns = ['Z', 'ppt']\n",
    "\n",
    "test = m_data3.resample('M', closed = 'left', label = 'right').sum()\n",
    "\n",
    "print (test)\n"
   ]
  },
  {
   "cell_type": "code",
   "execution_count": null,
   "id": "7136da8c",
   "metadata": {},
   "outputs": [],
   "source": []
  }
 ],
 "metadata": {
  "kernelspec": {
   "display_name": "Python 3",
   "language": "python",
   "name": "python3"
  },
  "language_info": {
   "codemirror_mode": {
    "name": "ipython",
    "version": 3
   },
   "file_extension": ".py",
   "mimetype": "text/x-python",
   "name": "python",
   "nbconvert_exporter": "python",
   "pygments_lexer": "ipython3",
   "version": "3.8.8"
  },
  "latex_envs": {
   "LaTeX_envs_menu_present": true,
   "autoclose": false,
   "autocomplete": true,
   "bibliofile": "biblio.bib",
   "cite_by": "apalike",
   "current_citInitial": 1,
   "eqLabelWithNumbers": true,
   "eqNumInitial": 1,
   "hotkeys": {
    "equation": "Ctrl-E",
    "itemize": "Ctrl-I"
   },
   "labels_anchors": false,
   "latex_user_defs": false,
   "report_style_numbering": false,
   "user_envs_cfg": false
  },
  "toc": {
   "base_numbering": 1,
   "nav_menu": {},
   "number_sections": true,
   "sideBar": true,
   "skip_h1_title": false,
   "title_cell": "Table of Contents",
   "title_sidebar": "Contents",
   "toc_cell": false,
   "toc_position": {},
   "toc_section_display": true,
   "toc_window_display": true
  }
 },
 "nbformat": 4,
 "nbformat_minor": 5
}
