{
 "cells": [
  {
   "cell_type": "markdown",
   "id": "163a5b39",
   "metadata": {},
   "source": [
    "# Generalidades de Pandas"
   ]
  },
  {
   "cell_type": "code",
   "execution_count": 1,
   "id": "78faae1c",
   "metadata": {},
   "outputs": [],
   "source": [
    "#-*- coding: utf-8 -*-\n",
    "#!/usr/bin/env python\n",
    "# ------------------------------\n",
    "\n",
    "import numpy as np\n",
    "import pandas as pd"
   ]
  },
  {
   "cell_type": "code",
   "execution_count": 4,
   "id": "8b82059a",
   "metadata": {},
   "outputs": [],
   "source": [
    "# Lectura de los datos\n",
    "\n",
    "path_data = '/Users/jsepulveda/Documents/asignaturas/curso_PythonBasico/datos/'\n",
    "name_data = 'ppt_dona_maria_2.csv'\n",
    "\n",
    "data1 = pd.read_csv(path_data + name_data, sep = ',')"
   ]
  },
  {
   "cell_type": "code",
   "execution_count": 3,
   "id": "73200ec0",
   "metadata": {},
   "outputs": [
    {
     "name": "stdout",
     "output_type": "stream",
     "text": [
      "                fecha_hora    ppt\n",
      "0      2013-01-01 01:00:00    0.0\n",
      "1      2013-01-01 02:00:00    0.0\n",
      "2      2013-01-01 03:00:00    0.0\n",
      "3      2013-01-01 04:00:00    0.0\n",
      "4      2013-01-01 05:00:00    0.0\n",
      "...                    ...    ...\n",
      "71539  2021-02-28 20:00:00 -999.0\n",
      "71540  2021-02-28 21:00:00 -999.0\n",
      "71541  2021-02-28 22:00:00 -999.0\n",
      "71542  2021-02-28 23:00:00 -999.0\n",
      "71543  2021-03-01 00:00:00 -999.0\n",
      "\n",
      "[71544 rows x 2 columns]\n"
     ]
    }
   ],
   "source": [
    "print (data1)"
   ]
  },
  {
   "cell_type": "code",
   "execution_count": 6,
   "id": "76eb70da",
   "metadata": {},
   "outputs": [
    {
     "data": {
      "text/html": [
       "<div>\n",
       "<style scoped>\n",
       "    .dataframe tbody tr th:only-of-type {\n",
       "        vertical-align: middle;\n",
       "    }\n",
       "\n",
       "    .dataframe tbody tr th {\n",
       "        vertical-align: top;\n",
       "    }\n",
       "\n",
       "    .dataframe thead th {\n",
       "        text-align: right;\n",
       "    }\n",
       "</style>\n",
       "<table border=\"1\" class=\"dataframe\">\n",
       "  <thead>\n",
       "    <tr style=\"text-align: right;\">\n",
       "      <th></th>\n",
       "      <th>ppt</th>\n",
       "    </tr>\n",
       "    <tr>\n",
       "      <th>fecha_hora</th>\n",
       "      <th></th>\n",
       "    </tr>\n",
       "  </thead>\n",
       "  <tbody>\n",
       "    <tr>\n",
       "      <th>2013-01-01 01:00:00</th>\n",
       "      <td>0.0</td>\n",
       "    </tr>\n",
       "    <tr>\n",
       "      <th>2013-01-01 02:00:00</th>\n",
       "      <td>0.0</td>\n",
       "    </tr>\n",
       "    <tr>\n",
       "      <th>2013-01-01 03:00:00</th>\n",
       "      <td>0.0</td>\n",
       "    </tr>\n",
       "    <tr>\n",
       "      <th>2013-01-01 04:00:00</th>\n",
       "      <td>0.0</td>\n",
       "    </tr>\n",
       "    <tr>\n",
       "      <th>2013-01-01 05:00:00</th>\n",
       "      <td>0.0</td>\n",
       "    </tr>\n",
       "    <tr>\n",
       "      <th>...</th>\n",
       "      <td>...</td>\n",
       "    </tr>\n",
       "    <tr>\n",
       "      <th>2021-02-28 20:00:00</th>\n",
       "      <td>-999.0</td>\n",
       "    </tr>\n",
       "    <tr>\n",
       "      <th>2021-02-28 21:00:00</th>\n",
       "      <td>-999.0</td>\n",
       "    </tr>\n",
       "    <tr>\n",
       "      <th>2021-02-28 22:00:00</th>\n",
       "      <td>-999.0</td>\n",
       "    </tr>\n",
       "    <tr>\n",
       "      <th>2021-02-28 23:00:00</th>\n",
       "      <td>-999.0</td>\n",
       "    </tr>\n",
       "    <tr>\n",
       "      <th>2021-03-01 00:00:00</th>\n",
       "      <td>-999.0</td>\n",
       "    </tr>\n",
       "  </tbody>\n",
       "</table>\n",
       "<p>71544 rows × 1 columns</p>\n",
       "</div>"
      ],
      "text/plain": [
       "                       ppt\n",
       "fecha_hora                \n",
       "2013-01-01 01:00:00    0.0\n",
       "2013-01-01 02:00:00    0.0\n",
       "2013-01-01 03:00:00    0.0\n",
       "2013-01-01 04:00:00    0.0\n",
       "2013-01-01 05:00:00    0.0\n",
       "...                    ...\n",
       "2021-02-28 20:00:00 -999.0\n",
       "2021-02-28 21:00:00 -999.0\n",
       "2021-02-28 22:00:00 -999.0\n",
       "2021-02-28 23:00:00 -999.0\n",
       "2021-03-01 00:00:00 -999.0\n",
       "\n",
       "[71544 rows x 1 columns]"
      ]
     },
     "execution_count": 6,
     "metadata": {},
     "output_type": "execute_result"
    }
   ],
   "source": [
    "# asignamos el indice de forma manual\n",
    "data1.set_index('fecha_hora')"
   ]
  },
  {
   "cell_type": "code",
   "execution_count": 8,
   "id": "68f297ae",
   "metadata": {},
   "outputs": [],
   "source": [
    "# Lectura de los datos con encabezado y asignando el index desde la lectura  \n",
    "data = pd.read_csv(path_data + name_data, sep = ',', index_col = 0) "
   ]
  },
  {
   "cell_type": "code",
   "execution_count": 9,
   "id": "3e96f150",
   "metadata": {},
   "outputs": [
    {
     "data": {
      "text/html": [
       "<div>\n",
       "<style scoped>\n",
       "    .dataframe tbody tr th:only-of-type {\n",
       "        vertical-align: middle;\n",
       "    }\n",
       "\n",
       "    .dataframe tbody tr th {\n",
       "        vertical-align: top;\n",
       "    }\n",
       "\n",
       "    .dataframe thead th {\n",
       "        text-align: right;\n",
       "    }\n",
       "</style>\n",
       "<table border=\"1\" class=\"dataframe\">\n",
       "  <thead>\n",
       "    <tr style=\"text-align: right;\">\n",
       "      <th></th>\n",
       "      <th>ppt</th>\n",
       "    </tr>\n",
       "    <tr>\n",
       "      <th>fecha_hora</th>\n",
       "      <th></th>\n",
       "    </tr>\n",
       "  </thead>\n",
       "  <tbody>\n",
       "    <tr>\n",
       "      <th>2013-01-01 01:00:00</th>\n",
       "      <td>0.0</td>\n",
       "    </tr>\n",
       "    <tr>\n",
       "      <th>2013-01-01 02:00:00</th>\n",
       "      <td>0.0</td>\n",
       "    </tr>\n",
       "    <tr>\n",
       "      <th>2013-01-01 03:00:00</th>\n",
       "      <td>0.0</td>\n",
       "    </tr>\n",
       "    <tr>\n",
       "      <th>2013-01-01 04:00:00</th>\n",
       "      <td>0.0</td>\n",
       "    </tr>\n",
       "    <tr>\n",
       "      <th>2013-01-01 05:00:00</th>\n",
       "      <td>0.0</td>\n",
       "    </tr>\n",
       "    <tr>\n",
       "      <th>...</th>\n",
       "      <td>...</td>\n",
       "    </tr>\n",
       "    <tr>\n",
       "      <th>2021-02-28 20:00:00</th>\n",
       "      <td>-999.0</td>\n",
       "    </tr>\n",
       "    <tr>\n",
       "      <th>2021-02-28 21:00:00</th>\n",
       "      <td>-999.0</td>\n",
       "    </tr>\n",
       "    <tr>\n",
       "      <th>2021-02-28 22:00:00</th>\n",
       "      <td>-999.0</td>\n",
       "    </tr>\n",
       "    <tr>\n",
       "      <th>2021-02-28 23:00:00</th>\n",
       "      <td>-999.0</td>\n",
       "    </tr>\n",
       "    <tr>\n",
       "      <th>2021-03-01 00:00:00</th>\n",
       "      <td>-999.0</td>\n",
       "    </tr>\n",
       "  </tbody>\n",
       "</table>\n",
       "<p>71544 rows × 1 columns</p>\n",
       "</div>"
      ],
      "text/plain": [
       "                       ppt\n",
       "fecha_hora                \n",
       "2013-01-01 01:00:00    0.0\n",
       "2013-01-01 02:00:00    0.0\n",
       "2013-01-01 03:00:00    0.0\n",
       "2013-01-01 04:00:00    0.0\n",
       "2013-01-01 05:00:00    0.0\n",
       "...                    ...\n",
       "2021-02-28 20:00:00 -999.0\n",
       "2021-02-28 21:00:00 -999.0\n",
       "2021-02-28 22:00:00 -999.0\n",
       "2021-02-28 23:00:00 -999.0\n",
       "2021-03-01 00:00:00 -999.0\n",
       "\n",
       "[71544 rows x 1 columns]"
      ]
     },
     "execution_count": 9,
     "metadata": {},
     "output_type": "execute_result"
    }
   ],
   "source": [
    "data"
   ]
  },
  {
   "cell_type": "code",
   "execution_count": 10,
   "id": "9f2499e4",
   "metadata": {},
   "outputs": [],
   "source": [
    "# Pandas es lo sucientemente bueno para lograr una lectura eficiente\n",
    "# Donde toma los encabezados y los convierte en Dataframes\n",
    "# ¿Qué pasa cuando no tiene encabezado?\n",
    "\n",
    "name_datanohead = 'ppt_dona_maria_2_noheader.csv'\n",
    "\n",
    "data_nohead = pd.read_csv(path_data + name_datanohead)"
   ]
  },
  {
   "cell_type": "code",
   "execution_count": 11,
   "id": "cc582238",
   "metadata": {},
   "outputs": [
    {
     "data": {
      "text/html": [
       "<div>\n",
       "<style scoped>\n",
       "    .dataframe tbody tr th:only-of-type {\n",
       "        vertical-align: middle;\n",
       "    }\n",
       "\n",
       "    .dataframe tbody tr th {\n",
       "        vertical-align: top;\n",
       "    }\n",
       "\n",
       "    .dataframe thead th {\n",
       "        text-align: right;\n",
       "    }\n",
       "</style>\n",
       "<table border=\"1\" class=\"dataframe\">\n",
       "  <thead>\n",
       "    <tr style=\"text-align: right;\">\n",
       "      <th></th>\n",
       "      <th>2013-01-01 01:00:00</th>\n",
       "      <th>0.000</th>\n",
       "    </tr>\n",
       "  </thead>\n",
       "  <tbody>\n",
       "    <tr>\n",
       "      <th>0</th>\n",
       "      <td>2013-01-01 02:00:00</td>\n",
       "      <td>0.0</td>\n",
       "    </tr>\n",
       "    <tr>\n",
       "      <th>1</th>\n",
       "      <td>2013-01-01 03:00:00</td>\n",
       "      <td>0.0</td>\n",
       "    </tr>\n",
       "    <tr>\n",
       "      <th>2</th>\n",
       "      <td>2013-01-01 04:00:00</td>\n",
       "      <td>0.0</td>\n",
       "    </tr>\n",
       "    <tr>\n",
       "      <th>3</th>\n",
       "      <td>2013-01-01 05:00:00</td>\n",
       "      <td>0.0</td>\n",
       "    </tr>\n",
       "    <tr>\n",
       "      <th>4</th>\n",
       "      <td>2013-01-01 06:00:00</td>\n",
       "      <td>0.0</td>\n",
       "    </tr>\n",
       "    <tr>\n",
       "      <th>...</th>\n",
       "      <td>...</td>\n",
       "      <td>...</td>\n",
       "    </tr>\n",
       "    <tr>\n",
       "      <th>71538</th>\n",
       "      <td>2021-02-28 20:00:00</td>\n",
       "      <td>-999.0</td>\n",
       "    </tr>\n",
       "    <tr>\n",
       "      <th>71539</th>\n",
       "      <td>2021-02-28 21:00:00</td>\n",
       "      <td>-999.0</td>\n",
       "    </tr>\n",
       "    <tr>\n",
       "      <th>71540</th>\n",
       "      <td>2021-02-28 22:00:00</td>\n",
       "      <td>-999.0</td>\n",
       "    </tr>\n",
       "    <tr>\n",
       "      <th>71541</th>\n",
       "      <td>2021-02-28 23:00:00</td>\n",
       "      <td>-999.0</td>\n",
       "    </tr>\n",
       "    <tr>\n",
       "      <th>71542</th>\n",
       "      <td>2021-03-01 00:00:00</td>\n",
       "      <td>-999.0</td>\n",
       "    </tr>\n",
       "  </tbody>\n",
       "</table>\n",
       "<p>71543 rows × 2 columns</p>\n",
       "</div>"
      ],
      "text/plain": [
       "       2013-01-01 01:00:00     0.000\n",
       "0      2013-01-01 02:00:00       0.0\n",
       "1      2013-01-01 03:00:00       0.0\n",
       "2      2013-01-01 04:00:00       0.0\n",
       "3      2013-01-01 05:00:00       0.0\n",
       "4      2013-01-01 06:00:00       0.0\n",
       "...                    ...       ...\n",
       "71538  2021-02-28 20:00:00    -999.0\n",
       "71539  2021-02-28 21:00:00    -999.0\n",
       "71540  2021-02-28 22:00:00    -999.0\n",
       "71541  2021-02-28 23:00:00    -999.0\n",
       "71542  2021-03-01 00:00:00    -999.0\n",
       "\n",
       "[71543 rows x 2 columns]"
      ]
     },
     "execution_count": 11,
     "metadata": {},
     "output_type": "execute_result"
    }
   ],
   "source": [
    "data_nohead"
   ]
  },
  {
   "cell_type": "code",
   "execution_count": 17,
   "id": "777bebc7",
   "metadata": {},
   "outputs": [
    {
     "name": "stdout",
     "output_type": "stream",
     "text": [
      "                fecha_hora    ppt\n",
      "0      2013-01-01 02:00:00    0.0\n",
      "1      2013-01-01 03:00:00    0.0\n",
      "2      2013-01-01 04:00:00    0.0\n",
      "3      2013-01-01 05:00:00    0.0\n",
      "4      2013-01-01 06:00:00    0.0\n",
      "...                    ...    ...\n",
      "71538  2021-02-28 20:00:00 -999.0\n",
      "71539  2021-02-28 21:00:00 -999.0\n",
      "71540  2021-02-28 22:00:00 -999.0\n",
      "71541  2021-02-28 23:00:00 -999.0\n",
      "71542  2021-03-01 00:00:00 -999.0\n",
      "\n",
      "[71543 rows x 2 columns]\n"
     ]
    }
   ],
   "source": [
    "data_nohead.columns = ['fecha_hora', 'ppt']\n",
    "print (data_nohead)"
   ]
  },
  {
   "cell_type": "code",
   "execution_count": 18,
   "id": "2b8a9f9f",
   "metadata": {},
   "outputs": [
    {
     "data": {
      "text/html": [
       "<div>\n",
       "<style scoped>\n",
       "    .dataframe tbody tr th:only-of-type {\n",
       "        vertical-align: middle;\n",
       "    }\n",
       "\n",
       "    .dataframe tbody tr th {\n",
       "        vertical-align: top;\n",
       "    }\n",
       "\n",
       "    .dataframe thead th {\n",
       "        text-align: right;\n",
       "    }\n",
       "</style>\n",
       "<table border=\"1\" class=\"dataframe\">\n",
       "  <thead>\n",
       "    <tr style=\"text-align: right;\">\n",
       "      <th></th>\n",
       "      <th>ppt</th>\n",
       "    </tr>\n",
       "    <tr>\n",
       "      <th>fecha_hora</th>\n",
       "      <th></th>\n",
       "    </tr>\n",
       "  </thead>\n",
       "  <tbody>\n",
       "    <tr>\n",
       "      <th>2013-01-01 02:00:00</th>\n",
       "      <td>0.0</td>\n",
       "    </tr>\n",
       "    <tr>\n",
       "      <th>2013-01-01 03:00:00</th>\n",
       "      <td>0.0</td>\n",
       "    </tr>\n",
       "    <tr>\n",
       "      <th>2013-01-01 04:00:00</th>\n",
       "      <td>0.0</td>\n",
       "    </tr>\n",
       "    <tr>\n",
       "      <th>2013-01-01 05:00:00</th>\n",
       "      <td>0.0</td>\n",
       "    </tr>\n",
       "    <tr>\n",
       "      <th>2013-01-01 06:00:00</th>\n",
       "      <td>0.0</td>\n",
       "    </tr>\n",
       "    <tr>\n",
       "      <th>...</th>\n",
       "      <td>...</td>\n",
       "    </tr>\n",
       "    <tr>\n",
       "      <th>2021-02-28 20:00:00</th>\n",
       "      <td>-999.0</td>\n",
       "    </tr>\n",
       "    <tr>\n",
       "      <th>2021-02-28 21:00:00</th>\n",
       "      <td>-999.0</td>\n",
       "    </tr>\n",
       "    <tr>\n",
       "      <th>2021-02-28 22:00:00</th>\n",
       "      <td>-999.0</td>\n",
       "    </tr>\n",
       "    <tr>\n",
       "      <th>2021-02-28 23:00:00</th>\n",
       "      <td>-999.0</td>\n",
       "    </tr>\n",
       "    <tr>\n",
       "      <th>2021-03-01 00:00:00</th>\n",
       "      <td>-999.0</td>\n",
       "    </tr>\n",
       "  </tbody>\n",
       "</table>\n",
       "<p>71543 rows × 1 columns</p>\n",
       "</div>"
      ],
      "text/plain": [
       "                       ppt\n",
       "fecha_hora                \n",
       "2013-01-01 02:00:00    0.0\n",
       "2013-01-01 03:00:00    0.0\n",
       "2013-01-01 04:00:00    0.0\n",
       "2013-01-01 05:00:00    0.0\n",
       "2013-01-01 06:00:00    0.0\n",
       "...                    ...\n",
       "2021-02-28 20:00:00 -999.0\n",
       "2021-02-28 21:00:00 -999.0\n",
       "2021-02-28 22:00:00 -999.0\n",
       "2021-02-28 23:00:00 -999.0\n",
       "2021-03-01 00:00:00 -999.0\n",
       "\n",
       "[71543 rows x 1 columns]"
      ]
     },
     "execution_count": 18,
     "metadata": {},
     "output_type": "execute_result"
    }
   ],
   "source": [
    "data_nohead.set_index('fecha_hora') # Asignamos la fecha como el indice"
   ]
  },
  {
   "cell_type": "code",
   "execution_count": 19,
   "id": "4151d470",
   "metadata": {},
   "outputs": [
    {
     "name": "stdout",
     "output_type": "stream",
     "text": [
      "                fecha_hora    ppt\n",
      "0      2013-01-01 02:00:00    0.0\n",
      "1      2013-01-01 03:00:00    0.0\n",
      "2      2013-01-01 04:00:00    0.0\n",
      "3      2013-01-01 05:00:00    0.0\n",
      "4      2013-01-01 06:00:00    0.0\n",
      "...                    ...    ...\n",
      "71538  2021-02-28 20:00:00 -999.0\n",
      "71539  2021-02-28 21:00:00 -999.0\n",
      "71540  2021-02-28 22:00:00 -999.0\n",
      "71541  2021-02-28 23:00:00 -999.0\n",
      "71542  2021-03-01 00:00:00 -999.0\n",
      "\n",
      "[71543 rows x 2 columns]\n"
     ]
    }
   ],
   "source": [
    "print (data_nohead) # La instrucción anterior aplica al DataFrame pero no asigna"
   ]
  },
  {
   "cell_type": "code",
   "execution_count": 20,
   "id": "cbbb5967",
   "metadata": {},
   "outputs": [],
   "source": [
    "data_nohead = data_nohead.set_index('fecha_hora')"
   ]
  },
  {
   "cell_type": "code",
   "execution_count": 39,
   "id": "3a8b5b0b",
   "metadata": {},
   "outputs": [
    {
     "name": "stdout",
     "output_type": "stream",
     "text": [
      "2013-01-01 01:00:00\n",
      "2021-03-01 00:00:00\n"
     ]
    },
    {
     "data": {
      "text/plain": [
       "Index([' ppt'], dtype='object')"
      ]
     },
     "execution_count": 39,
     "metadata": {},
     "output_type": "execute_result"
    }
   ],
   "source": [
    "# Luego de ver que se puede hacer con diferentes tipos de encabezados\n",
    "# continuamos trabajando con \"data\"\n",
    "\n",
    "data.index = pd.to_datetime(data.index)\n",
    "hourly = data.resample('H', label = 'right', closed = 'left').sum().copy()\n",
    "\n",
    "print (np.min(data.index))\n",
    "print (np.max(data.index))\n",
    "hourly.keys()"
   ]
  },
  {
   "cell_type": "code",
   "execution_count": 45,
   "id": "15384f7c",
   "metadata": {},
   "outputs": [
    {
     "name": "stdout",
     "output_type": "stream",
     "text": [
      "                       ppt\n",
      "fecha_hora                \n",
      "2013-01-02 01:00:00    0.0\n",
      "2013-01-03 01:00:00    0.0\n",
      "2013-01-04 01:00:00    0.0\n",
      "2013-01-05 01:00:00    0.0\n",
      "2013-01-06 01:00:00    0.0\n",
      "...                    ...\n",
      "2021-02-25 01:00:00 -999.0\n",
      "2021-02-26 01:00:00 -999.0\n",
      "2021-02-27 01:00:00 -999.0\n",
      "2021-02-28 01:00:00 -999.0\n",
      "2021-03-01 01:00:00 -999.0\n",
      "\n",
      "[2981 rows x 1 columns]\n"
     ]
    }
   ],
   "source": [
    "date_teo = pd.date_range('2013-01-01 01:00:00', '2021-03-01 00:00:00', freq = '1H')\n",
    "hourly.reindex(date_teo)\n",
    "daily    = hourly.resample('D', label = 'right', closed = 'left').sum().copy()\n",
    "aa = daily[' ppt'].values\n",
    "diasppt = (np.where(aa > 0.))[0]\n",
    "print (hourly.loc[hourly.index.hour == 1])\n"
   ]
  },
  {
   "cell_type": "code",
   "execution_count": 21,
   "id": "3adc56f1",
   "metadata": {},
   "outputs": [],
   "source": [
    "# Lectura de archivos\n",
    "name_excel  = '3_2017v1.xlsx'\n",
    "name_sheet1 = \"Consolidado\"\n",
    "\n",
    "df_ozono = pd.read_excel(path_data + name_excel,sheet_name=name_sheet1,\\\n",
    "                   usecols=[0,14,34],\\\n",
    "                   skipfooter = 0, index_col=0,\\\n",
    "                   parse_dates=[0])\n",
    "df_ozono['ozono'] = df_ozono.ozono.values * (47.997/24.45)"
   ]
  },
  {
   "cell_type": "code",
   "execution_count": 23,
   "id": "1ed8ff88",
   "metadata": {},
   "outputs": [],
   "source": [
    "# Hicimos un copy para jugar con el DF\n",
    "#generamos una nueva variable que se actualizó con \n",
    "# una condicion\n",
    "df_ozono2 = df_ozono.copy()\n",
    "df_ozono3 = df_ozono.copy()\n",
    "df_ozono2.index = pd.to_datetime(df_ozono2.index)\n",
    "df_ozono2['vviento_ssr'].loc[df_ozono2['vviento_ssr'].values < -9000.] = np.nan\n",
    "df_ozono3['triste'] = np.ones(len(df_ozono3))*-999.\n",
    "df_ozono3['triste'].loc[df_ozono3['vviento_ssr'] >= 4] = df_ozono3['ozono']*2000."
   ]
  },
  {
   "cell_type": "code",
   "execution_count": 24,
   "id": "9f316c01",
   "metadata": {},
   "outputs": [
    {
     "name": "stdout",
     "output_type": "stream",
     "text": [
      "                         ozono  vviento_ssr  ozono_roll\n",
      "Fecha_Hora                                             \n",
      "2017-01-01 00:00:00   1.380146     0.602249         NaN\n",
      "2017-01-01 01:00:00   1.697400     0.552654         NaN\n",
      "2017-01-01 02:00:00   1.805694     0.510059         NaN\n",
      "2017-01-01 03:00:00   1.470883     0.210166         NaN\n",
      "2017-01-01 04:00:00   2.001347     2.223460         NaN\n",
      "...                        ...          ...         ...\n",
      "2017-12-31 19:00:00  30.052600          NaN   47.350169\n",
      "2017-12-31 20:00:00   8.774912          NaN   41.921061\n",
      "2017-12-31 21:00:00   2.575545          NaN   35.109217\n",
      "2017-12-31 22:00:00   8.150656          NaN   29.285777\n",
      "2017-12-31 23:00:00  10.794908          NaN   24.592819\n",
      "\n",
      "[8760 rows x 3 columns]\n"
     ]
    }
   ],
   "source": [
    "# Con una condicion dejamos la serie incompleta\n",
    "# Creamos un vector de tiempo teorico\n",
    "# Reindexamos el data frame\n",
    "df_ozono2 = df_ozono2.loc[(df_ozono2['ozono'] >= 15.) & (df_ozono2['vviento_ssr'] <= 4.)]\n",
    "\n",
    "date_teo = pd.date_range('2017-01-01 00:00:00',\\\n",
    "                        '2017-12-31 23:00:00',\\\n",
    "                        freq = 'H')\n",
    "\n",
    "df_ozono2 = df_ozono2.reindex(date_teo)\n",
    "df_ozono['vviento_ssr'].loc[df_ozono['vviento_ssr'] < -9000.] = np.nan\n",
    "df_ozono['ozono_roll'] = df_ozono['ozono'].rolling(8, 8).mean()\n",
    "print (df_ozono)"
   ]
  },
  {
   "cell_type": "code",
   "execution_count": 25,
   "id": "f0fc335d",
   "metadata": {},
   "outputs": [
    {
     "name": "stdout",
     "output_type": "stream",
     "text": [
      "                         ozono  vviento_ssr  ozono_roll\n",
      "Fecha_Hora                                             \n",
      "2017-01-01 00:00:00   1.380146     0.602249         NaN\n",
      "2017-01-01 01:00:00   1.697400     0.552654         NaN\n",
      "2017-01-01 02:00:00   1.805694     0.510059         NaN\n",
      "2017-01-01 03:00:00   1.470883     0.210166         NaN\n",
      "2017-01-01 04:00:00   2.001347     2.223460         NaN\n",
      "...                        ...          ...         ...\n",
      "2017-12-31 19:00:00  30.052600          NaN   47.350169\n",
      "2017-12-31 20:00:00   8.774912          NaN   41.921061\n",
      "2017-12-31 21:00:00   2.575545          NaN   35.109217\n",
      "2017-12-31 22:00:00   8.150656          NaN   29.285777\n",
      "2017-12-31 23:00:00  10.794908          NaN   24.592819\n",
      "\n",
      "[8760 rows x 3 columns]\n"
     ]
    }
   ],
   "source": [
    "for ii in range(0,7):\n",
    "    df_ozono['ozono_roll'].loc[df_ozono.index.hour == ii] = np.nan\n",
    "print(df_ozono)"
   ]
  },
  {
   "cell_type": "code",
   "execution_count": 26,
   "id": "3a3ef956",
   "metadata": {},
   "outputs": [],
   "source": [
    "def hourstand(serie): #ingresa dataframe\n",
    "    serie['stand'] = np.ones(len(serie)) * -999.\n",
    "    mean_array = np.empty((24))\n",
    "    std_arr    = np.empty((24))\n",
    "    for i in np.arange(0,24):\n",
    "        dumm = serie.loc[serie.index.hour == i]\n",
    "        mean_h = np.nanmean(dumm.ozono.values)\n",
    "        std_h  = np.nanstd(dumm.ozono.values)\n",
    "        mean_array[i] = mean_h\n",
    "        std_arr[i]    = std_h \n",
    "        serie['stand'].loc[serie.index.hour == i] = \\\n",
    "        (serie['ozono'].loc[serie.index.hour == i] - mean_h)/std_h\n",
    "    return mean_array, std_arr, serie "
   ]
  },
  {
   "cell_type": "code",
   "execution_count": 27,
   "id": "dc9deab0",
   "metadata": {},
   "outputs": [],
   "source": [
    "media_h, std_h, ozono_std = hourstand(df_ozono)"
   ]
  },
  {
   "cell_type": "code",
   "execution_count": null,
   "id": "9c407bc1",
   "metadata": {},
   "outputs": [],
   "source": []
  }
 ],
 "metadata": {
  "kernelspec": {
   "display_name": "Python 3",
   "language": "python",
   "name": "python3"
  },
  "language_info": {
   "codemirror_mode": {
    "name": "ipython",
    "version": 3
   },
   "file_extension": ".py",
   "mimetype": "text/x-python",
   "name": "python",
   "nbconvert_exporter": "python",
   "pygments_lexer": "ipython3",
   "version": "3.8.8"
  },
  "latex_envs": {
   "LaTeX_envs_menu_present": true,
   "autoclose": false,
   "autocomplete": true,
   "bibliofile": "biblio.bib",
   "cite_by": "apalike",
   "current_citInitial": 1,
   "eqLabelWithNumbers": true,
   "eqNumInitial": 1,
   "hotkeys": {
    "equation": "Ctrl-E",
    "itemize": "Ctrl-I"
   },
   "labels_anchors": false,
   "latex_user_defs": false,
   "report_style_numbering": false,
   "user_envs_cfg": false
  },
  "toc": {
   "base_numbering": 1,
   "nav_menu": {},
   "number_sections": true,
   "sideBar": true,
   "skip_h1_title": false,
   "title_cell": "Table of Contents",
   "title_sidebar": "Contents",
   "toc_cell": false,
   "toc_position": {},
   "toc_section_display": true,
   "toc_window_display": true
  }
 },
 "nbformat": 4,
 "nbformat_minor": 5
}
