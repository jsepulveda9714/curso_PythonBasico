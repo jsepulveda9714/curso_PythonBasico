{
 "cells": [
  {
   "cell_type": "markdown",
   "id": "a57c8759",
   "metadata": {},
   "source": [
    "# Generalidades de Pandas"
   ]
  },
  {
   "cell_type": "markdown",
   "id": "259a669a",
   "metadata": {},
   "source": [
    "## Impotación de paquetes necesarios"
   ]
  },
  {
   "cell_type": "code",
   "execution_count": 5,
   "id": "df08ead7",
   "metadata": {},
   "outputs": [],
   "source": [
    "#-*- coding: utf-8 -*-\n",
    "#!/usr/bin/env python\n",
    "# ------------------------------\n",
    "\n",
    "import numpy as np\n",
    "import pandas as pd"
   ]
  },
  {
   "cell_type": "markdown",
   "id": "c7aa0016",
   "metadata": {},
   "source": [
    "## Repaso del uso de \"lambda\""
   ]
  },
  {
   "cell_type": "markdown",
   "id": "c7dd24f0",
   "metadata": {},
   "source": [
    "Lambda se puede usar para definir funciones que luego pueden ser evaludas es así como al ingresar dos variables y una operación algenbraica entre ellas, la función lambda debe ser evaluada ingresando exactamente dos parámetros."
   ]
  },
  {
   "cell_type": "code",
   "execution_count": 6,
   "id": "53011011",
   "metadata": {},
   "outputs": [
    {
     "name": "stdout",
     "output_type": "stream",
     "text": [
      "91.0\n"
     ]
    }
   ],
   "source": [
    "una_funcion = lambda julian, junes: julian**2. + junes\n",
    "\n",
    "print (una_funcion(9., 10.))"
   ]
  },
  {
   "cell_type": "markdown",
   "id": "41ae0990",
   "metadata": {},
   "source": [
    "Para el caso de una lista en la cual la función definidad con lambda quiere ser aplicada a todos los elementos de la lista, esta puede ser definida por fuera del map o dentro del mismo:"
   ]
  },
  {
   "cell_type": "code",
   "execution_count": 7,
   "id": "99377ef7",
   "metadata": {},
   "outputs": [
    {
     "name": "stdout",
     "output_type": "stream",
     "text": [
      "[4.0, 4.5, 5.0, 5.5, 6.0, 6.5, 7.0, 7.5, 8.0, 8.5, 9.0, 9.5, 10.0, 10.5, 11.0, 11.5, 12.0, 12.5, 13.0, 13.5, 14.0, 14.5, 15.0, 15.5, 16.0, 16.5, 17.0, 17.5, 18.0, 18.5, 19.0, 19.5, 20.0, 20.5, 21.0, 21.5, 22.0, 22.5, 23.0, 23.5, 24.0, 24.5, 25.0, 25.5, 26.0, 26.5, 27.0, 27.5, 28.0, 28.5, 29.0, 29.5, 30.0, 30.5, 31.0, 31.5, 32.0, 32.5, 33.0, 33.5, 34.0, 34.5, 35.0, 35.5, 36.0, 36.5, 37.0, 37.5, 38.0, 38.5, 39.0, 39.5, 40.0, 40.5, 41.0, 41.5, 42.0, 42.5, 43.0, 43.5, 44.0, 44.5, 45.0, 45.5, 46.0, 46.5, 47.0, 47.5, 48.0, 48.5, 49.0, 49.5, 50.0, 50.5, 51.0, 51.5, 52.0, 52.5, 53.0, 53.5, 54.0, 54.5, 55.0, 55.5, 56.0, 56.5, 57.0, 57.5, 58.0, 58.5, 59.0, 59.5, 60.0, 60.5, 61.0, 61.5, 62.0, 62.5, 63.0, 63.5, 64.0, 64.5, 65.0, 65.5, 66.0, 66.5, 67.0, 67.5, 68.0, 68.5, 69.0, 69.5, 70.0, 70.5, 71.0, 71.5, 72.0, 72.5, 73.0, 73.5, 74.0, 74.5, 75.0, 75.5, 76.0, 76.5, 77.0, 77.5, 78.0, 78.5, 79.0, 79.5, 80.0, 80.5, 81.0, 81.5, 82.0, 82.5, 83.0, 83.5, 84.0, 84.5, 85.0, 85.5, 86.0, 86.5, 87.0, 87.5, 88.0, 88.5, 89.0, 89.5, 90.0, 90.5, 91.0, 91.5, 92.0, 92.5, 93.0, 93.5, 94.0, 94.5, 95.0, 95.5, 96.0, 96.5, 97.0, 97.5, 98.0, 98.5, 99.0, 99.5, 100.0, 100.5, 101.0, 101.5, 102.0, 102.5, 103.0, 103.5]\n"
     ]
    }
   ],
   "source": [
    "bb = np.arange(0, 200, 1)\n",
    "otra_funcion = lambda x: x/2. + 4.\n",
    "\n",
    "bb_new  = list(map(otra_funcion, bb))\n",
    "bb_new2 = list(map(lambda x: x/2. + 4., bb))\n",
    "print (bb_new2)"
   ]
  },
  {
   "cell_type": "markdown",
   "id": "dfbc2d43",
   "metadata": {},
   "source": [
    "## Creación de DataFrames de pandas"
   ]
  },
  {
   "cell_type": "code",
   "execution_count": 8,
   "id": "5b55e409",
   "metadata": {},
   "outputs": [
    {
     "name": "stdout",
     "output_type": "stream",
     "text": [
      "0\n",
      "Int64Index([100, 101, 102, 103, 104, 105, 106, 107, 108, 109,\n",
      "            ...\n",
      "            290, 291, 292, 293, 294, 295, 296, 297, 298, 299],\n",
      "           dtype='int64', length=200)\n"
     ]
    },
    {
     "data": {
      "text/html": [
       "<div>\n",
       "<style scoped>\n",
       "    .dataframe tbody tr th:only-of-type {\n",
       "        vertical-align: middle;\n",
       "    }\n",
       "\n",
       "    .dataframe tbody tr th {\n",
       "        vertical-align: top;\n",
       "    }\n",
       "\n",
       "    .dataframe thead th {\n",
       "        text-align: right;\n",
       "    }\n",
       "</style>\n",
       "<table border=\"1\" class=\"dataframe\">\n",
       "  <thead>\n",
       "    <tr style=\"text-align: right;\">\n",
       "      <th></th>\n",
       "      <th>bb</th>\n",
       "      <th>bb_new</th>\n",
       "    </tr>\n",
       "  </thead>\n",
       "  <tbody>\n",
       "    <tr>\n",
       "      <th>100</th>\n",
       "      <td>0</td>\n",
       "      <td>4.0</td>\n",
       "    </tr>\n",
       "    <tr>\n",
       "      <th>101</th>\n",
       "      <td>1</td>\n",
       "      <td>4.5</td>\n",
       "    </tr>\n",
       "    <tr>\n",
       "      <th>102</th>\n",
       "      <td>2</td>\n",
       "      <td>5.0</td>\n",
       "    </tr>\n",
       "    <tr>\n",
       "      <th>103</th>\n",
       "      <td>3</td>\n",
       "      <td>5.5</td>\n",
       "    </tr>\n",
       "    <tr>\n",
       "      <th>104</th>\n",
       "      <td>4</td>\n",
       "      <td>6.0</td>\n",
       "    </tr>\n",
       "    <tr>\n",
       "      <th>...</th>\n",
       "      <td>...</td>\n",
       "      <td>...</td>\n",
       "    </tr>\n",
       "    <tr>\n",
       "      <th>295</th>\n",
       "      <td>195</td>\n",
       "      <td>101.5</td>\n",
       "    </tr>\n",
       "    <tr>\n",
       "      <th>296</th>\n",
       "      <td>196</td>\n",
       "      <td>102.0</td>\n",
       "    </tr>\n",
       "    <tr>\n",
       "      <th>297</th>\n",
       "      <td>197</td>\n",
       "      <td>102.5</td>\n",
       "    </tr>\n",
       "    <tr>\n",
       "      <th>298</th>\n",
       "      <td>198</td>\n",
       "      <td>103.0</td>\n",
       "    </tr>\n",
       "    <tr>\n",
       "      <th>299</th>\n",
       "      <td>199</td>\n",
       "      <td>103.5</td>\n",
       "    </tr>\n",
       "  </tbody>\n",
       "</table>\n",
       "<p>200 rows × 2 columns</p>\n",
       "</div>"
      ],
      "text/plain": [
       "      bb  bb_new\n",
       "100    0     4.0\n",
       "101    1     4.5\n",
       "102    2     5.0\n",
       "103    3     5.5\n",
       "104    4     6.0\n",
       "..   ...     ...\n",
       "295  195   101.5\n",
       "296  196   102.0\n",
       "297  197   102.5\n",
       "298  198   103.0\n",
       "299  199   103.5\n",
       "\n",
       "[200 rows x 2 columns]"
      ]
     },
     "execution_count": 8,
     "metadata": {},
     "output_type": "execute_result"
    }
   ],
   "source": [
    "df_bb = pd.DataFrame({'bb': bb, 'bb_new':bb_new}, index = np.arange(100, 300,1))\n",
    "print (df_bb['bb'].values[0])\n",
    "print (df_bb.index)\n",
    "df_bb"
   ]
  },
  {
   "cell_type": "markdown",
   "id": "5be58540",
   "metadata": {},
   "source": [
    "## Lectura de archivos de texto plano usando Pandas\n",
    "Cuando se usa pandas para leer los datos, tenemos una gran ventaja que los datos quedan leídos como un DataFrame. La función para hacer esto es read_csv de pandas y esta función recibe como entrada la ruta completa donde está el archivo y el nombre del mismo, el separador ..... entre otros parámetros (Al estudiante se le invitó a ver la documentación para que explire toda la cantidad de parámetros disponibles y sus utilidades).\n",
    "En los siguientes bloques se ejemplifica como leer y asignar la fecha como indice en el DataFrame."
   ]
  },
  {
   "cell_type": "code",
   "execution_count": 13,
   "id": "acf1c054",
   "metadata": {},
   "outputs": [],
   "source": [
    "# Lectura de los datos\n",
    "\n",
    "path_data = '/Users/jsepulveda/Documents/asignaturas/curso_PythonBasico/datos/'\n",
    "name_data = 'ppt_dona_maria_2.csv'\n",
    "\n",
    "data1 = pd.read_csv(path_data + name_data, sep = ',')"
   ]
  },
  {
   "cell_type": "code",
   "execution_count": 14,
   "id": "37f87b2f",
   "metadata": {},
   "outputs": [
    {
     "name": "stdout",
     "output_type": "stream",
     "text": [
      "                fecha_hora    ppt\n",
      "0      2013-01-01 01:00:00    0.0\n",
      "1      2013-01-01 02:00:00    0.0\n",
      "2      2013-01-01 03:00:00    0.0\n",
      "3      2013-01-01 04:00:00    0.0\n",
      "4      2013-01-01 05:00:00    0.0\n",
      "...                    ...    ...\n",
      "71539  2021-02-28 20:00:00 -999.0\n",
      "71540  2021-02-28 21:00:00 -999.0\n",
      "71541  2021-02-28 22:00:00 -999.0\n",
      "71542  2021-02-28 23:00:00 -999.0\n",
      "71543  2021-03-01 00:00:00 -999.0\n",
      "\n",
      "[71544 rows x 2 columns]\n"
     ]
    }
   ],
   "source": [
    "print (data1)"
   ]
  },
  {
   "cell_type": "code",
   "execution_count": 15,
   "id": "73cbaacb",
   "metadata": {},
   "outputs": [
    {
     "data": {
      "text/html": [
       "<div>\n",
       "<style scoped>\n",
       "    .dataframe tbody tr th:only-of-type {\n",
       "        vertical-align: middle;\n",
       "    }\n",
       "\n",
       "    .dataframe tbody tr th {\n",
       "        vertical-align: top;\n",
       "    }\n",
       "\n",
       "    .dataframe thead th {\n",
       "        text-align: right;\n",
       "    }\n",
       "</style>\n",
       "<table border=\"1\" class=\"dataframe\">\n",
       "  <thead>\n",
       "    <tr style=\"text-align: right;\">\n",
       "      <th></th>\n",
       "      <th>ppt</th>\n",
       "    </tr>\n",
       "    <tr>\n",
       "      <th>fecha_hora</th>\n",
       "      <th></th>\n",
       "    </tr>\n",
       "  </thead>\n",
       "  <tbody>\n",
       "    <tr>\n",
       "      <th>2013-01-01 01:00:00</th>\n",
       "      <td>0.0</td>\n",
       "    </tr>\n",
       "    <tr>\n",
       "      <th>2013-01-01 02:00:00</th>\n",
       "      <td>0.0</td>\n",
       "    </tr>\n",
       "    <tr>\n",
       "      <th>2013-01-01 03:00:00</th>\n",
       "      <td>0.0</td>\n",
       "    </tr>\n",
       "    <tr>\n",
       "      <th>2013-01-01 04:00:00</th>\n",
       "      <td>0.0</td>\n",
       "    </tr>\n",
       "    <tr>\n",
       "      <th>2013-01-01 05:00:00</th>\n",
       "      <td>0.0</td>\n",
       "    </tr>\n",
       "    <tr>\n",
       "      <th>...</th>\n",
       "      <td>...</td>\n",
       "    </tr>\n",
       "    <tr>\n",
       "      <th>2021-02-28 20:00:00</th>\n",
       "      <td>-999.0</td>\n",
       "    </tr>\n",
       "    <tr>\n",
       "      <th>2021-02-28 21:00:00</th>\n",
       "      <td>-999.0</td>\n",
       "    </tr>\n",
       "    <tr>\n",
       "      <th>2021-02-28 22:00:00</th>\n",
       "      <td>-999.0</td>\n",
       "    </tr>\n",
       "    <tr>\n",
       "      <th>2021-02-28 23:00:00</th>\n",
       "      <td>-999.0</td>\n",
       "    </tr>\n",
       "    <tr>\n",
       "      <th>2021-03-01 00:00:00</th>\n",
       "      <td>-999.0</td>\n",
       "    </tr>\n",
       "  </tbody>\n",
       "</table>\n",
       "<p>71544 rows × 1 columns</p>\n",
       "</div>"
      ],
      "text/plain": [
       "                       ppt\n",
       "fecha_hora                \n",
       "2013-01-01 01:00:00    0.0\n",
       "2013-01-01 02:00:00    0.0\n",
       "2013-01-01 03:00:00    0.0\n",
       "2013-01-01 04:00:00    0.0\n",
       "2013-01-01 05:00:00    0.0\n",
       "...                    ...\n",
       "2021-02-28 20:00:00 -999.0\n",
       "2021-02-28 21:00:00 -999.0\n",
       "2021-02-28 22:00:00 -999.0\n",
       "2021-02-28 23:00:00 -999.0\n",
       "2021-03-01 00:00:00 -999.0\n",
       "\n",
       "[71544 rows x 1 columns]"
      ]
     },
     "execution_count": 15,
     "metadata": {},
     "output_type": "execute_result"
    }
   ],
   "source": [
    "# asignamos el indice de forma manual\n",
    "data1.set_index('fecha_hora')"
   ]
  },
  {
   "cell_type": "code",
   "execution_count": 16,
   "id": "77719740",
   "metadata": {},
   "outputs": [],
   "source": [
    "# Lectura de los datos con encabezado y asignando el index desde la lectura  \n",
    "data = pd.read_csv(path_data + name_data, sep = ',', index_col = 0) "
   ]
  },
  {
   "cell_type": "code",
   "execution_count": 17,
   "id": "def8bbe7",
   "metadata": {},
   "outputs": [
    {
     "data": {
      "text/html": [
       "<div>\n",
       "<style scoped>\n",
       "    .dataframe tbody tr th:only-of-type {\n",
       "        vertical-align: middle;\n",
       "    }\n",
       "\n",
       "    .dataframe tbody tr th {\n",
       "        vertical-align: top;\n",
       "    }\n",
       "\n",
       "    .dataframe thead th {\n",
       "        text-align: right;\n",
       "    }\n",
       "</style>\n",
       "<table border=\"1\" class=\"dataframe\">\n",
       "  <thead>\n",
       "    <tr style=\"text-align: right;\">\n",
       "      <th></th>\n",
       "      <th>ppt</th>\n",
       "    </tr>\n",
       "    <tr>\n",
       "      <th>fecha_hora</th>\n",
       "      <th></th>\n",
       "    </tr>\n",
       "  </thead>\n",
       "  <tbody>\n",
       "    <tr>\n",
       "      <th>2013-01-01 01:00:00</th>\n",
       "      <td>0.0</td>\n",
       "    </tr>\n",
       "    <tr>\n",
       "      <th>2013-01-01 02:00:00</th>\n",
       "      <td>0.0</td>\n",
       "    </tr>\n",
       "    <tr>\n",
       "      <th>2013-01-01 03:00:00</th>\n",
       "      <td>0.0</td>\n",
       "    </tr>\n",
       "    <tr>\n",
       "      <th>2013-01-01 04:00:00</th>\n",
       "      <td>0.0</td>\n",
       "    </tr>\n",
       "    <tr>\n",
       "      <th>2013-01-01 05:00:00</th>\n",
       "      <td>0.0</td>\n",
       "    </tr>\n",
       "    <tr>\n",
       "      <th>...</th>\n",
       "      <td>...</td>\n",
       "    </tr>\n",
       "    <tr>\n",
       "      <th>2021-02-28 20:00:00</th>\n",
       "      <td>-999.0</td>\n",
       "    </tr>\n",
       "    <tr>\n",
       "      <th>2021-02-28 21:00:00</th>\n",
       "      <td>-999.0</td>\n",
       "    </tr>\n",
       "    <tr>\n",
       "      <th>2021-02-28 22:00:00</th>\n",
       "      <td>-999.0</td>\n",
       "    </tr>\n",
       "    <tr>\n",
       "      <th>2021-02-28 23:00:00</th>\n",
       "      <td>-999.0</td>\n",
       "    </tr>\n",
       "    <tr>\n",
       "      <th>2021-03-01 00:00:00</th>\n",
       "      <td>-999.0</td>\n",
       "    </tr>\n",
       "  </tbody>\n",
       "</table>\n",
       "<p>71544 rows × 1 columns</p>\n",
       "</div>"
      ],
      "text/plain": [
       "                       ppt\n",
       "fecha_hora                \n",
       "2013-01-01 01:00:00    0.0\n",
       "2013-01-01 02:00:00    0.0\n",
       "2013-01-01 03:00:00    0.0\n",
       "2013-01-01 04:00:00    0.0\n",
       "2013-01-01 05:00:00    0.0\n",
       "...                    ...\n",
       "2021-02-28 20:00:00 -999.0\n",
       "2021-02-28 21:00:00 -999.0\n",
       "2021-02-28 22:00:00 -999.0\n",
       "2021-02-28 23:00:00 -999.0\n",
       "2021-03-01 00:00:00 -999.0\n",
       "\n",
       "[71544 rows x 1 columns]"
      ]
     },
     "execution_count": 17,
     "metadata": {},
     "output_type": "execute_result"
    }
   ],
   "source": [
    "data"
   ]
  },
  {
   "cell_type": "code",
   "execution_count": 18,
   "id": "73629fc5",
   "metadata": {},
   "outputs": [],
   "source": [
    "# Pandas es lo sucientemente bueno para lograr una lectura eficiente\n",
    "# Donde toma los encabezados y los convierte en Dataframes\n",
    "# ¿Qué pasa cuando no tiene encabezado?\n",
    "\n",
    "name_datanohead = 'ppt_dona_maria_2_noheader.csv'\n",
    "\n",
    "data_nohead = pd.read_csv(path_data + name_datanohead, sep = ',')"
   ]
  },
  {
   "cell_type": "code",
   "execution_count": 19,
   "id": "c9b031d5",
   "metadata": {},
   "outputs": [
    {
     "data": {
      "text/html": [
       "<div>\n",
       "<style scoped>\n",
       "    .dataframe tbody tr th:only-of-type {\n",
       "        vertical-align: middle;\n",
       "    }\n",
       "\n",
       "    .dataframe tbody tr th {\n",
       "        vertical-align: top;\n",
       "    }\n",
       "\n",
       "    .dataframe thead th {\n",
       "        text-align: right;\n",
       "    }\n",
       "</style>\n",
       "<table border=\"1\" class=\"dataframe\">\n",
       "  <thead>\n",
       "    <tr style=\"text-align: right;\">\n",
       "      <th></th>\n",
       "      <th>2013-01-01 01:00:00</th>\n",
       "      <th>0.000</th>\n",
       "    </tr>\n",
       "  </thead>\n",
       "  <tbody>\n",
       "    <tr>\n",
       "      <th>0</th>\n",
       "      <td>2013-01-01 02:00:00</td>\n",
       "      <td>0.0</td>\n",
       "    </tr>\n",
       "    <tr>\n",
       "      <th>1</th>\n",
       "      <td>2013-01-01 03:00:00</td>\n",
       "      <td>0.0</td>\n",
       "    </tr>\n",
       "    <tr>\n",
       "      <th>2</th>\n",
       "      <td>2013-01-01 04:00:00</td>\n",
       "      <td>0.0</td>\n",
       "    </tr>\n",
       "    <tr>\n",
       "      <th>3</th>\n",
       "      <td>2013-01-01 05:00:00</td>\n",
       "      <td>0.0</td>\n",
       "    </tr>\n",
       "    <tr>\n",
       "      <th>4</th>\n",
       "      <td>2013-01-01 06:00:00</td>\n",
       "      <td>0.0</td>\n",
       "    </tr>\n",
       "    <tr>\n",
       "      <th>...</th>\n",
       "      <td>...</td>\n",
       "      <td>...</td>\n",
       "    </tr>\n",
       "    <tr>\n",
       "      <th>71538</th>\n",
       "      <td>2021-02-28 20:00:00</td>\n",
       "      <td>-999.0</td>\n",
       "    </tr>\n",
       "    <tr>\n",
       "      <th>71539</th>\n",
       "      <td>2021-02-28 21:00:00</td>\n",
       "      <td>-999.0</td>\n",
       "    </tr>\n",
       "    <tr>\n",
       "      <th>71540</th>\n",
       "      <td>2021-02-28 22:00:00</td>\n",
       "      <td>-999.0</td>\n",
       "    </tr>\n",
       "    <tr>\n",
       "      <th>71541</th>\n",
       "      <td>2021-02-28 23:00:00</td>\n",
       "      <td>-999.0</td>\n",
       "    </tr>\n",
       "    <tr>\n",
       "      <th>71542</th>\n",
       "      <td>2021-03-01 00:00:00</td>\n",
       "      <td>-999.0</td>\n",
       "    </tr>\n",
       "  </tbody>\n",
       "</table>\n",
       "<p>71543 rows × 2 columns</p>\n",
       "</div>"
      ],
      "text/plain": [
       "       2013-01-01 01:00:00     0.000\n",
       "0      2013-01-01 02:00:00       0.0\n",
       "1      2013-01-01 03:00:00       0.0\n",
       "2      2013-01-01 04:00:00       0.0\n",
       "3      2013-01-01 05:00:00       0.0\n",
       "4      2013-01-01 06:00:00       0.0\n",
       "...                    ...       ...\n",
       "71538  2021-02-28 20:00:00    -999.0\n",
       "71539  2021-02-28 21:00:00    -999.0\n",
       "71540  2021-02-28 22:00:00    -999.0\n",
       "71541  2021-02-28 23:00:00    -999.0\n",
       "71542  2021-03-01 00:00:00    -999.0\n",
       "\n",
       "[71543 rows x 2 columns]"
      ]
     },
     "execution_count": 19,
     "metadata": {},
     "output_type": "execute_result"
    }
   ],
   "source": [
    "data_nohead"
   ]
  },
  {
   "cell_type": "code",
   "execution_count": 20,
   "id": "4a774507",
   "metadata": {},
   "outputs": [
    {
     "name": "stdout",
     "output_type": "stream",
     "text": [
      "                fecha_hora    ppt\n",
      "0      2013-01-01 02:00:00    0.0\n",
      "1      2013-01-01 03:00:00    0.0\n",
      "2      2013-01-01 04:00:00    0.0\n",
      "3      2013-01-01 05:00:00    0.0\n",
      "4      2013-01-01 06:00:00    0.0\n",
      "...                    ...    ...\n",
      "71538  2021-02-28 20:00:00 -999.0\n",
      "71539  2021-02-28 21:00:00 -999.0\n",
      "71540  2021-02-28 22:00:00 -999.0\n",
      "71541  2021-02-28 23:00:00 -999.0\n",
      "71542  2021-03-01 00:00:00 -999.0\n",
      "\n",
      "[71543 rows x 2 columns]\n"
     ]
    }
   ],
   "source": [
    "data_nohead.columns = ['fecha_hora', 'ppt']\n",
    "print (data_nohead)"
   ]
  },
  {
   "cell_type": "code",
   "execution_count": 21,
   "id": "f34ab346",
   "metadata": {},
   "outputs": [
    {
     "data": {
      "text/html": [
       "<div>\n",
       "<style scoped>\n",
       "    .dataframe tbody tr th:only-of-type {\n",
       "        vertical-align: middle;\n",
       "    }\n",
       "\n",
       "    .dataframe tbody tr th {\n",
       "        vertical-align: top;\n",
       "    }\n",
       "\n",
       "    .dataframe thead th {\n",
       "        text-align: right;\n",
       "    }\n",
       "</style>\n",
       "<table border=\"1\" class=\"dataframe\">\n",
       "  <thead>\n",
       "    <tr style=\"text-align: right;\">\n",
       "      <th></th>\n",
       "      <th>ppt</th>\n",
       "    </tr>\n",
       "    <tr>\n",
       "      <th>fecha_hora</th>\n",
       "      <th></th>\n",
       "    </tr>\n",
       "  </thead>\n",
       "  <tbody>\n",
       "    <tr>\n",
       "      <th>2013-01-01 02:00:00</th>\n",
       "      <td>0.0</td>\n",
       "    </tr>\n",
       "    <tr>\n",
       "      <th>2013-01-01 03:00:00</th>\n",
       "      <td>0.0</td>\n",
       "    </tr>\n",
       "    <tr>\n",
       "      <th>2013-01-01 04:00:00</th>\n",
       "      <td>0.0</td>\n",
       "    </tr>\n",
       "    <tr>\n",
       "      <th>2013-01-01 05:00:00</th>\n",
       "      <td>0.0</td>\n",
       "    </tr>\n",
       "    <tr>\n",
       "      <th>2013-01-01 06:00:00</th>\n",
       "      <td>0.0</td>\n",
       "    </tr>\n",
       "    <tr>\n",
       "      <th>...</th>\n",
       "      <td>...</td>\n",
       "    </tr>\n",
       "    <tr>\n",
       "      <th>2021-02-28 20:00:00</th>\n",
       "      <td>-999.0</td>\n",
       "    </tr>\n",
       "    <tr>\n",
       "      <th>2021-02-28 21:00:00</th>\n",
       "      <td>-999.0</td>\n",
       "    </tr>\n",
       "    <tr>\n",
       "      <th>2021-02-28 22:00:00</th>\n",
       "      <td>-999.0</td>\n",
       "    </tr>\n",
       "    <tr>\n",
       "      <th>2021-02-28 23:00:00</th>\n",
       "      <td>-999.0</td>\n",
       "    </tr>\n",
       "    <tr>\n",
       "      <th>2021-03-01 00:00:00</th>\n",
       "      <td>-999.0</td>\n",
       "    </tr>\n",
       "  </tbody>\n",
       "</table>\n",
       "<p>71543 rows × 1 columns</p>\n",
       "</div>"
      ],
      "text/plain": [
       "                       ppt\n",
       "fecha_hora                \n",
       "2013-01-01 02:00:00    0.0\n",
       "2013-01-01 03:00:00    0.0\n",
       "2013-01-01 04:00:00    0.0\n",
       "2013-01-01 05:00:00    0.0\n",
       "2013-01-01 06:00:00    0.0\n",
       "...                    ...\n",
       "2021-02-28 20:00:00 -999.0\n",
       "2021-02-28 21:00:00 -999.0\n",
       "2021-02-28 22:00:00 -999.0\n",
       "2021-02-28 23:00:00 -999.0\n",
       "2021-03-01 00:00:00 -999.0\n",
       "\n",
       "[71543 rows x 1 columns]"
      ]
     },
     "execution_count": 21,
     "metadata": {},
     "output_type": "execute_result"
    }
   ],
   "source": [
    "data_nohead.set_index('fecha_hora') # Asignamos la fecha como el indice"
   ]
  },
  {
   "cell_type": "code",
   "execution_count": 22,
   "id": "f14e39c4",
   "metadata": {},
   "outputs": [
    {
     "name": "stdout",
     "output_type": "stream",
     "text": [
      "                fecha_hora    ppt\n",
      "0      2013-01-01 02:00:00    0.0\n",
      "1      2013-01-01 03:00:00    0.0\n",
      "2      2013-01-01 04:00:00    0.0\n",
      "3      2013-01-01 05:00:00    0.0\n",
      "4      2013-01-01 06:00:00    0.0\n",
      "...                    ...    ...\n",
      "71538  2021-02-28 20:00:00 -999.0\n",
      "71539  2021-02-28 21:00:00 -999.0\n",
      "71540  2021-02-28 22:00:00 -999.0\n",
      "71541  2021-02-28 23:00:00 -999.0\n",
      "71542  2021-03-01 00:00:00 -999.0\n",
      "\n",
      "[71543 rows x 2 columns]\n"
     ]
    }
   ],
   "source": [
    "print (data_nohead) # La instrucción anterior aplica al DataFrame pero no asigna"
   ]
  },
  {
   "cell_type": "code",
   "execution_count": 23,
   "id": "ef3a348e",
   "metadata": {},
   "outputs": [],
   "source": [
    "data_nohead = data_nohead.set_index('fecha_hora')"
   ]
  },
  {
   "cell_type": "code",
   "execution_count": 24,
   "id": "36b21a9e",
   "metadata": {},
   "outputs": [],
   "source": [
    "# Luego de ver que se puede hacer con diferentes tipos de encabezados\n",
    "# continuamos trabajando con \"data\"\n",
    "\n",
    "data.index = pd.to_datetime(data.index)\n"
   ]
  },
  {
   "cell_type": "code",
   "execution_count": 25,
   "id": "e9c6a212",
   "metadata": {},
   "outputs": [
    {
     "name": "stdout",
     "output_type": "stream",
     "text": [
      "                       ppt\n",
      "fecha_hora                \n",
      "2013-01-01 01:00:00    0.0\n",
      "2013-01-01 02:00:00    0.0\n",
      "2013-01-01 03:00:00    0.0\n",
      "2013-01-01 04:00:00    0.0\n",
      "2013-01-01 05:00:00    0.0\n",
      "...                    ...\n",
      "2021-02-28 20:00:00 -999.0\n",
      "2021-02-28 21:00:00 -999.0\n",
      "2021-02-28 22:00:00 -999.0\n",
      "2021-02-28 23:00:00 -999.0\n",
      "2021-03-01 00:00:00 -999.0\n",
      "\n",
      "[71544 rows x 1 columns]\n"
     ]
    }
   ],
   "source": [
    "print (data)"
   ]
  },
  {
   "cell_type": "markdown",
   "id": "b4de8ea8",
   "metadata": {},
   "source": [
    "## Uso de herramientas útilies como reindex, resample, date_range, loc"
   ]
  },
  {
   "cell_type": "code",
   "execution_count": 26,
   "id": "6acffcbc",
   "metadata": {},
   "outputs": [
    {
     "name": "stdout",
     "output_type": "stream",
     "text": [
      "2013-01-01 01:00:00\n",
      "2021-03-01 00:00:00\n"
     ]
    },
    {
     "data": {
      "text/plain": [
       "Index([' ppt'], dtype='object')"
      ]
     },
     "execution_count": 26,
     "metadata": {},
     "output_type": "execute_result"
    }
   ],
   "source": [
    "hourly = data.resample('H', label = 'right', closed = 'left').sum().copy()\n",
    "print (np.min(data.index))\n",
    "print (np.max(data.index))\n",
    "\n",
    "aa = hourly.loc[(hourly.index > '2021-02-01 00:00:00')]\n",
    "hourly.keys()"
   ]
  },
  {
   "cell_type": "code",
   "execution_count": 27,
   "id": "fb67a0a6",
   "metadata": {},
   "outputs": [
    {
     "name": "stdout",
     "output_type": "stream",
     "text": [
      "2982\n",
      "303\n"
     ]
    },
    {
     "data": {
      "text/plain": [
       "array([   0,    1,    2,    4,    5,    6,    7,    8,    9,   10,   17,\n",
       "         25,   26,   36,   46,   49,   55,   60,   64,   68,   69,   81,\n",
       "         84,   85,   90,   92,   93,   95,   96,   97,   98,  102,  103,\n",
       "        152,  156,  157,  158,  159,  160,  170,  171,  176,  182,  184,\n",
       "        190,  194,  195,  198,  201,  204,  205,  208,  209,  210,  215,\n",
       "        217,  225,  239,  246,  300,  304,  314,  319,  328,  337,  339,\n",
       "        344,  345,  346,  360,  362,  363,  364,  365,  367,  368,  372,\n",
       "        378,  379,  380,  381,  382,  383,  387,  388,  391,  399,  403,\n",
       "        404,  417,  420,  462,  464,  467,  468,  482,  488,  497,  509,\n",
       "        510,  511,  524,  527,  528,  532,  533,  534,  544,  553,  554,\n",
       "        555,  556,  557,  558,  559,  561,  562,  563,  564,  565,  566,\n",
       "        567,  568,  569,  570,  574,  575,  576,  577,  579,  587,  591,\n",
       "        592,  593,  597,  600,  606,  607,  609,  612,  613,  615,  616,\n",
       "        623,  660,  664,  670,  671,  683,  684,  693,  696,  697,  698,\n",
       "        699,  700,  701,  712,  715,  721,  722,  723,  724,  725,  726,\n",
       "        727,  728,  729,  730,  731,  732,  733,  734,  735,  736,  737,\n",
       "        738,  739,  742,  743,  744,  745,  747,  748,  754,  757,  758,\n",
       "        762,  763,  764,  772,  774,  775,  776,  777,  781,  782,  783,\n",
       "        785,  787,  790,  791,  793,  794,  797,  798,  799,  803,  804,\n",
       "        814,  815,  824,  831,  841,  842,  843,  844,  846,  848,  851,\n",
       "        855,  858,  859,  860,  861,  862,  882,  884,  885,  886,  887,\n",
       "        893,  897,  898,  899,  900,  901,  903,  904,  905,  906,  908,\n",
       "        909,  910,  911,  912,  913,  914,  915,  920,  923,  934,  935,\n",
       "        936,  937,  938,  941,  944,  946,  951,  956,  970,  971,  974,\n",
       "        975,  976,  977,  979,  981,  984,  985,  986,  987,  988,  995,\n",
       "        996,  997,  998,  999, 1000, 1001, 1021, 1023, 1036, 1045, 1046,\n",
       "       1062, 1063, 1064, 1065, 1069, 1070, 1073, 1074, 1075, 1080, 1083,\n",
       "       1084, 1085, 1089, 1091, 1092, 1093])"
      ]
     },
     "execution_count": 27,
     "metadata": {},
     "output_type": "execute_result"
    }
   ],
   "source": [
    "date_teo = pd.date_range('2013-01-01 01:00:00', '2021-03-01 00:00:00', freq = '1H')\n",
    "hourly.reindex(date_teo)\n",
    "daily    = hourly.resample('D', label = 'left', closed = 'left').sum().copy()\n",
    "daily\n",
    "\n",
    "ppt_aa = daily[' ppt'].values\n",
    "print (len(ppt_aa))\n",
    "dias_noppt = (np.where(ppt_aa == 0.))[0]\n",
    "print (len(dias_noppt))\n",
    "dias_noppt"
   ]
  },
  {
   "cell_type": "code",
   "execution_count": 28,
   "id": "028e6e87",
   "metadata": {},
   "outputs": [
    {
     "name": "stdout",
     "output_type": "stream",
     "text": [
      "             ppt\n",
      "fecha_hora      \n",
      "2013-01-01   0.0\n",
      "2013-01-02   0.0\n",
      "2013-01-03   0.0\n",
      "2013-01-05   0.0\n",
      "2013-01-06   0.0\n",
      "...          ...\n",
      "2015-12-22   0.0\n",
      "2015-12-26   0.0\n",
      "2015-12-28   0.0\n",
      "2015-12-29   0.0\n",
      "2015-12-30   0.0\n",
      "\n",
      "[303 rows x 1 columns]\n"
     ]
    }
   ],
   "source": [
    "df_dias_noppt = daily.loc[daily[' ppt'] == 0.]\n",
    "print (df_dias_noppt)"
   ]
  },
  {
   "cell_type": "code",
   "execution_count": 29,
   "id": "c9dbbde9",
   "metadata": {},
   "outputs": [
    {
     "name": "stdout",
     "output_type": "stream",
     "text": [
      "                       ppt\n",
      "fecha_hora                \n",
      "2013-01-02 01:00:00    0.0\n",
      "2013-01-03 01:00:00    0.0\n",
      "2013-01-04 01:00:00    0.0\n",
      "2013-01-05 01:00:00    0.0\n",
      "2013-01-06 01:00:00    0.0\n",
      "...                    ...\n",
      "2021-02-25 01:00:00 -999.0\n",
      "2021-02-26 01:00:00 -999.0\n",
      "2021-02-27 01:00:00 -999.0\n",
      "2021-02-28 01:00:00 -999.0\n",
      "2021-03-01 01:00:00 -999.0\n",
      "\n",
      "[2981 rows x 1 columns]\n"
     ]
    }
   ],
   "source": [
    "df_filter_1h = hourly.loc[hourly.index.hour == 1]\n",
    "\n",
    "print (df_filter_1h)"
   ]
  },
  {
   "cell_type": "code",
   "execution_count": 30,
   "id": "1381540a",
   "metadata": {},
   "outputs": [],
   "source": [
    "# Lectura de archivos\n",
    "name_excel  = '3_2017v1.xlsx'\n",
    "name_sheet1 = \"Consolidado\"\n",
    "\n",
    "df_ozono = pd.read_excel(path_data + name_excel,sheet_name=name_sheet1,\\\n",
    "                   usecols=[0,14,34],\\\n",
    "                   skipfooter = 0, index_col=0,\\\n",
    "                   parse_dates=[0])\n",
    "df_ozono['ozono'] = df_ozono.ozono.values * (47.997/24.45)"
   ]
  },
  {
   "cell_type": "code",
   "execution_count": 31,
   "id": "1ca25d49",
   "metadata": {},
   "outputs": [],
   "source": [
    "# Hicimos un copy para jugar con el DF\n",
    "#generamos una nueva variable que se actualizó con \n",
    "# una condicion\n",
    "df_ozono2 = df_ozono.copy()\n",
    "df_ozono3 = df_ozono.copy()\n",
    "df_ozono2.index = pd.to_datetime(df_ozono2.index)\n",
    "df_ozono2['vviento_ssr'].loc[df_ozono2['vviento_ssr'].values < -9000.] = np.nan\n",
    "df_ozono3['triste'] = np.ones(len(df_ozono3))*-999.\n",
    "df_ozono3['triste'].loc[df_ozono3['vviento_ssr'] >= 4] = df_ozono3['ozono']*2000."
   ]
  },
  {
   "cell_type": "code",
   "execution_count": 32,
   "id": "2bdaac07",
   "metadata": {},
   "outputs": [
    {
     "name": "stdout",
     "output_type": "stream",
     "text": [
      "                         ozono  vviento_ssr  ozono_roll\n",
      "Fecha_Hora                                             \n",
      "2017-01-01 00:00:00   1.380146     0.602249         NaN\n",
      "2017-01-01 01:00:00   1.697400     0.552654         NaN\n",
      "2017-01-01 02:00:00   1.805694     0.510059         NaN\n",
      "2017-01-01 03:00:00   1.470883     0.210166         NaN\n",
      "2017-01-01 04:00:00   2.001347     2.223460         NaN\n",
      "...                        ...          ...         ...\n",
      "2017-12-31 19:00:00  30.052600          NaN   47.350169\n",
      "2017-12-31 20:00:00   8.774912          NaN   41.921061\n",
      "2017-12-31 21:00:00   2.575545          NaN   35.109217\n",
      "2017-12-31 22:00:00   8.150656          NaN   29.285777\n",
      "2017-12-31 23:00:00  10.794908          NaN   24.592819\n",
      "\n",
      "[8760 rows x 3 columns]\n"
     ]
    }
   ],
   "source": [
    "# Con una condicion dejamos la serie incompleta\n",
    "# Creamos un vector de tiempo teorico\n",
    "# Reindexamos el data frame\n",
    "df_ozono2 = df_ozono2.loc[(df_ozono2['ozono'] >= 15.) & (df_ozono2['vviento_ssr'] <= 4.)]\n",
    "\n",
    "date_teo = pd.date_range('2017-01-01 00:00:00',\\\n",
    "                        '2017-12-31 23:00:00',\\\n",
    "                        freq = 'H')\n",
    "\n",
    "df_ozono2 = df_ozono2.reindex(date_teo)\n",
    "df_ozono['vviento_ssr'].loc[df_ozono['vviento_ssr'] < -9000.] = np.nan\n",
    "df_ozono['ozono_roll'] = df_ozono['ozono'].rolling(8, 8).mean()\n",
    "print (df_ozono)"
   ]
  },
  {
   "cell_type": "code",
   "execution_count": 33,
   "id": "82eb3ddf",
   "metadata": {},
   "outputs": [
    {
     "name": "stdout",
     "output_type": "stream",
     "text": [
      "                         ozono  vviento_ssr  ozono_roll\n",
      "Fecha_Hora                                             \n",
      "2017-01-01 00:00:00   1.380146     0.602249         NaN\n",
      "2017-01-01 01:00:00   1.697400     0.552654         NaN\n",
      "2017-01-01 02:00:00   1.805694     0.510059         NaN\n",
      "2017-01-01 03:00:00   1.470883     0.210166         NaN\n",
      "2017-01-01 04:00:00   2.001347     2.223460         NaN\n",
      "...                        ...          ...         ...\n",
      "2017-12-31 19:00:00  30.052600          NaN   47.350169\n",
      "2017-12-31 20:00:00   8.774912          NaN   41.921061\n",
      "2017-12-31 21:00:00   2.575545          NaN   35.109217\n",
      "2017-12-31 22:00:00   8.150656          NaN   29.285777\n",
      "2017-12-31 23:00:00  10.794908          NaN   24.592819\n",
      "\n",
      "[8760 rows x 3 columns]\n"
     ]
    }
   ],
   "source": [
    "for ii in range(0,7):\n",
    "    df_ozono['ozono_roll'].loc[df_ozono.index.hour == ii] = np.nan\n",
    "print(df_ozono)"
   ]
  },
  {
   "cell_type": "code",
   "execution_count": 26,
   "id": "2a7e1386",
   "metadata": {},
   "outputs": [],
   "source": [
    "def hourstand(serie): #ingresa dataframe\n",
    "    serie['stand'] = np.ones(len(serie)) * -999.\n",
    "    mean_array = np.empty((24))\n",
    "    std_arr    = np.empty((24))\n",
    "    for i in np.arange(0,24):\n",
    "        dumm = serie.loc[serie.index.hour == i]\n",
    "        mean_h = np.nanmean(dumm.ozono.values)\n",
    "        std_h  = np.nanstd(dumm.ozono.values)\n",
    "        mean_array[i] = mean_h\n",
    "        std_arr[i]    = std_h \n",
    "        serie['stand'].loc[serie.index.hour == i] = \\\n",
    "        (serie['ozono'].loc[serie.index.hour == i] - mean_h)/std_h\n",
    "    return mean_array, std_arr, serie "
   ]
  },
  {
   "cell_type": "code",
   "execution_count": 27,
   "id": "d9c642d3",
   "metadata": {},
   "outputs": [],
   "source": [
    "media_h, std_h, ozono_std = hourstand(df_ozono)"
   ]
  },
  {
   "cell_type": "code",
   "execution_count": null,
   "id": "5bf895ed",
   "metadata": {},
   "outputs": [],
   "source": []
  }
 ],
 "metadata": {
  "kernelspec": {
   "display_name": "Python 3",
   "language": "python",
   "name": "python3"
  },
  "language_info": {
   "codemirror_mode": {
    "name": "ipython",
    "version": 3
   },
   "file_extension": ".py",
   "mimetype": "text/x-python",
   "name": "python",
   "nbconvert_exporter": "python",
   "pygments_lexer": "ipython3",
   "version": "3.8.8"
  },
  "latex_envs": {
   "LaTeX_envs_menu_present": true,
   "autoclose": false,
   "autocomplete": true,
   "bibliofile": "biblio.bib",
   "cite_by": "apalike",
   "current_citInitial": 1,
   "eqLabelWithNumbers": true,
   "eqNumInitial": 1,
   "hotkeys": {
    "equation": "Ctrl-E",
    "itemize": "Ctrl-I"
   },
   "labels_anchors": false,
   "latex_user_defs": false,
   "report_style_numbering": false,
   "user_envs_cfg": false
  },
  "toc": {
   "base_numbering": 1,
   "nav_menu": {},
   "number_sections": true,
   "sideBar": true,
   "skip_h1_title": false,
   "title_cell": "Table of Contents",
   "title_sidebar": "Contents",
   "toc_cell": false,
   "toc_position": {},
   "toc_section_display": true,
   "toc_window_display": true
  }
 },
 "nbformat": 4,
 "nbformat_minor": 5
}
